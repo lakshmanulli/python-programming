{
  "nbformat": 4,
  "nbformat_minor": 0,
  "metadata": {
    "colab": {
      "provenance": [],
      "authorship_tag": "ABX9TyMu09JsTdWjfPKPDdosLnzN",
      "include_colab_link": true
    },
    "kernelspec": {
      "name": "python3",
      "display_name": "Python 3"
    },
    "language_info": {
      "name": "python"
    }
  },
  "cells": [
    {
      "cell_type": "markdown",
      "metadata": {
        "id": "view-in-github",
        "colab_type": "text"
      },
      "source": [
        "<a href=\"https://colab.research.google.com/github/lakshmanulli/python-programming/blob/main/Strings.ipynb\" target=\"_parent\"><img src=\"https://colab.research.google.com/assets/colab-badge.svg\" alt=\"Open In Colab\"/></a>"
      ]
    },
    {
      "cell_type": "code",
      "execution_count": null,
      "metadata": {
        "id": "BQrb9KEFea2R"
      },
      "outputs": [],
      "source": [
        "# strings"
      ]
    },
    {
      "cell_type": "markdown",
      "source": [
        "\n",
        "# strings\n",
        "  In Python, a string is a sequence of characters enclosed within single quotes ('...'), double quotes (\"...\"), triple single quotes ('''...'''), or triple double quotes (\"\"\"...\"\"\").\n",
        "\n",
        "  Strings are immutable, meaning once they are created, their contents cannot be changed.\n",
        "\n",
        "\n",
        "\n",
        "\n",
        "\n",
        "\n"
      ],
      "metadata": {
        "id": "0cM3vDXkexcC"
      }
    },
    {
      "cell_type": "code",
      "source": [
        "print(\"hello\")"
      ],
      "metadata": {
        "colab": {
          "base_uri": "https://localhost:8080/"
        },
        "id": "DyCVH1eYe6tE",
        "outputId": "3035e639-e383-4056-f574-185d992debde"
      },
      "execution_count": null,
      "outputs": [
        {
          "output_type": "stream",
          "name": "stdout",
          "text": [
            "hello\n"
          ]
        }
      ]
    },
    {
      "cell_type": "code",
      "source": [
        "a = 'python programming'\n",
        "a"
      ],
      "metadata": {
        "colab": {
          "base_uri": "https://localhost:8080/",
          "height": 35
        },
        "id": "AF5fSFUjfiep",
        "outputId": "4c0a2eb2-df35-4ec7-fc07-aada54ba2c40"
      },
      "execution_count": null,
      "outputs": [
        {
          "output_type": "execute_result",
          "data": {
            "text/plain": [
              "'python programming'"
            ],
            "application/vnd.google.colaboratory.intrinsic+json": {
              "type": "string"
            }
          },
          "metadata": {},
          "execution_count": 3
        }
      ]
    },
    {
      "cell_type": "markdown",
      "source": [
        "## Accessing of character\n",
        "\n",
        "Python does not have a character data type, a single character is simply a string with a length of 1.\n",
        "\n",
        "Square brackets can be used to access elements of the string."
      ],
      "metadata": {
        "id": "QS8xPDuCfx84"
      }
    },
    {
      "cell_type": "code",
      "source": [
        "a[1]"
      ],
      "metadata": {
        "colab": {
          "base_uri": "https://localhost:8080/",
          "height": 35
        },
        "id": "hoXi-7i5gOdC",
        "outputId": "bff29b32-bfe1-4ef5-aaf4-698d10bb2717"
      },
      "execution_count": null,
      "outputs": [
        {
          "output_type": "execute_result",
          "data": {
            "text/plain": [
              "'y'"
            ],
            "application/vnd.google.colaboratory.intrinsic+json": {
              "type": "string"
            }
          },
          "metadata": {},
          "execution_count": 4
        }
      ]
    },
    {
      "cell_type": "code",
      "source": [
        "print(a[9])"
      ],
      "metadata": {
        "colab": {
          "base_uri": "https://localhost:8080/"
        },
        "id": "W2XlW8BXfxbK",
        "outputId": "39f56d46-628e-499e-e8f5-3f903d9b4905"
      },
      "execution_count": null,
      "outputs": [
        {
          "output_type": "stream",
          "name": "stdout",
          "text": [
            "o\n"
          ]
        }
      ]
    },
    {
      "cell_type": "code",
      "source": [
        "print(len(a))"
      ],
      "metadata": {
        "colab": {
          "base_uri": "https://localhost:8080/"
        },
        "id": "EspjVgxsfuiS",
        "outputId": "10f8b99f-952e-4878-e57c-403a9cf5bbcc"
      },
      "execution_count": null,
      "outputs": [
        {
          "output_type": "stream",
          "name": "stdout",
          "text": [
            "18\n"
          ]
        }
      ]
    },
    {
      "cell_type": "code",
      "source": [
        "for i in a:\n",
        "  print(i,end=\" \")"
      ],
      "metadata": {
        "colab": {
          "base_uri": "https://localhost:8080/"
        },
        "id": "6LS6kimLgY-X",
        "outputId": "90e91403-4d85-4042-e4a8-3e54c93c3391"
      },
      "execution_count": null,
      "outputs": [
        {
          "output_type": "stream",
          "name": "stdout",
          "text": [
            "p y t h o n   p r o g r a m m i n g "
          ]
        }
      ]
    },
    {
      "cell_type": "markdown",
      "source": [
        "# Python - Slicing Strings\n",
        "String slicing in Python allows you to access a range of characters in a string. You can slice strings using the\n",
        "\n",
        "syntax         string[start:stop:step].\n",
        "\n",
        "Basic Slicing\n",
        "\n",
        "start: The starting index of the slice (inclusive).\n",
        "\n",
        "stop: The ending index of the slice (exclusive).\n",
        "\n",
        "step: The step value determines the increment between each index for slicing."
      ],
      "metadata": {
        "id": "6oeMQhSlgzBi"
      }
    },
    {
      "cell_type": "code",
      "source": [
        "a = 'python programming'\n",
        "a[0:10]"
      ],
      "metadata": {
        "colab": {
          "base_uri": "https://localhost:8080/",
          "height": 35
        },
        "id": "CSZwZ4POgj9O",
        "outputId": "f56bf4f0-caa6-421a-b70b-a164cf2f01ac"
      },
      "execution_count": null,
      "outputs": [
        {
          "output_type": "execute_result",
          "data": {
            "text/plain": [
              "'python pro'"
            ],
            "application/vnd.google.colaboratory.intrinsic+json": {
              "type": "string"
            }
          },
          "metadata": {},
          "execution_count": 1
        }
      ]
    },
    {
      "cell_type": "code",
      "source": [
        "a[:10]"
      ],
      "metadata": {
        "colab": {
          "base_uri": "https://localhost:8080/",
          "height": 35
        },
        "id": "duNIrBxp4z4O",
        "outputId": "68bdcd17-acef-4906-8dbc-30c9076d6a79"
      },
      "execution_count": null,
      "outputs": [
        {
          "output_type": "execute_result",
          "data": {
            "text/plain": [
              "'python pro'"
            ],
            "application/vnd.google.colaboratory.intrinsic+json": {
              "type": "string"
            }
          },
          "metadata": {},
          "execution_count": 2
        }
      ]
    },
    {
      "cell_type": "code",
      "source": [
        "a[0:10:2]"
      ],
      "metadata": {
        "colab": {
          "base_uri": "https://localhost:8080/",
          "height": 35
        },
        "id": "Wluoauda4uXg",
        "outputId": "956dd32e-208c-4d3e-914c-d7bbe8a12105"
      },
      "execution_count": null,
      "outputs": [
        {
          "output_type": "execute_result",
          "data": {
            "text/plain": [
              "'pto r'"
            ],
            "application/vnd.google.colaboratory.intrinsic+json": {
              "type": "string"
            }
          },
          "metadata": {},
          "execution_count": 3
        }
      ]
    },
    {
      "cell_type": "code",
      "source": [
        "a[::]"
      ],
      "metadata": {
        "colab": {
          "base_uri": "https://localhost:8080/",
          "height": 35
        },
        "id": "N4m59U1c5IkZ",
        "outputId": "a6a957b4-84e1-4d3a-e83f-8baaab66355a"
      },
      "execution_count": null,
      "outputs": [
        {
          "output_type": "execute_result",
          "data": {
            "text/plain": [
              "'python programming'"
            ],
            "application/vnd.google.colaboratory.intrinsic+json": {
              "type": "string"
            }
          },
          "metadata": {},
          "execution_count": 4
        }
      ]
    },
    {
      "cell_type": "code",
      "source": [
        "a[:]"
      ],
      "metadata": {
        "colab": {
          "base_uri": "https://localhost:8080/",
          "height": 35
        },
        "id": "KadBKN065XGO",
        "outputId": "081a24db-5af4-45cf-baf3-5f5b45eac861"
      },
      "execution_count": null,
      "outputs": [
        {
          "output_type": "execute_result",
          "data": {
            "text/plain": [
              "'python programming'"
            ],
            "application/vnd.google.colaboratory.intrinsic+json": {
              "type": "string"
            }
          },
          "metadata": {},
          "execution_count": 7
        }
      ]
    },
    {
      "cell_type": "code",
      "source": [
        "a[::-1]"
      ],
      "metadata": {
        "colab": {
          "base_uri": "https://localhost:8080/",
          "height": 35
        },
        "id": "qCN0Q85L5gd6",
        "outputId": "32d50bc6-0f9a-4035-b602-fce7c4073bf3"
      },
      "execution_count": null,
      "outputs": [
        {
          "output_type": "execute_result",
          "data": {
            "text/plain": [
              "'gnimmargorp nohtyp'"
            ],
            "application/vnd.google.colaboratory.intrinsic+json": {
              "type": "string"
            }
          },
          "metadata": {},
          "execution_count": 9
        }
      ]
    },
    {
      "cell_type": "code",
      "source": [
        "a[-1:]"
      ],
      "metadata": {
        "colab": {
          "base_uri": "https://localhost:8080/",
          "height": 35
        },
        "id": "88dTrAUq5ire",
        "outputId": "a399ec6d-9677-4994-d721-078e69236f89"
      },
      "execution_count": null,
      "outputs": [
        {
          "output_type": "execute_result",
          "data": {
            "text/plain": [
              "'g'"
            ],
            "application/vnd.google.colaboratory.intrinsic+json": {
              "type": "string"
            }
          },
          "metadata": {},
          "execution_count": 10
        }
      ]
    },
    {
      "cell_type": "code",
      "source": [
        "a[-11]"
      ],
      "metadata": {
        "colab": {
          "base_uri": "https://localhost:8080/",
          "height": 35
        },
        "id": "bdc5JsoZ5tMt",
        "outputId": "88d93b22-5ff2-4a2e-9f43-e21719a4cba5"
      },
      "execution_count": null,
      "outputs": [
        {
          "output_type": "execute_result",
          "data": {
            "text/plain": [
              "'p'"
            ],
            "application/vnd.google.colaboratory.intrinsic+json": {
              "type": "string"
            }
          },
          "metadata": {},
          "execution_count": 11
        }
      ]
    },
    {
      "cell_type": "code",
      "source": [
        "a[-18:]"
      ],
      "metadata": {
        "colab": {
          "base_uri": "https://localhost:8080/",
          "height": 35
        },
        "id": "dEgTGf8u5y7S",
        "outputId": "55a2a420-f259-49f1-fa88-f61cfe5507b2"
      },
      "execution_count": null,
      "outputs": [
        {
          "output_type": "execute_result",
          "data": {
            "text/plain": [
              "'python programming'"
            ],
            "application/vnd.google.colaboratory.intrinsic+json": {
              "type": "string"
            }
          },
          "metadata": {},
          "execution_count": 14
        }
      ]
    },
    {
      "cell_type": "code",
      "source": [
        "a[:-5]"
      ],
      "metadata": {
        "colab": {
          "base_uri": "https://localhost:8080/",
          "height": 35
        },
        "id": "M-DF5Fz952N_",
        "outputId": "ccc9b03f-3aaa-4102-babc-a7ce36efbb28"
      },
      "execution_count": null,
      "outputs": [
        {
          "output_type": "execute_result",
          "data": {
            "text/plain": [
              "'python progra'"
            ],
            "application/vnd.google.colaboratory.intrinsic+json": {
              "type": "string"
            }
          },
          "metadata": {},
          "execution_count": 15
        }
      ]
    },
    {
      "cell_type": "code",
      "source": [
        "a[-15:-2:2]"
      ],
      "metadata": {
        "colab": {
          "base_uri": "https://localhost:8080/",
          "height": 35
        },
        "id": "HvFobqUJ6CU9",
        "outputId": "3acf1bbe-c7b9-4dc1-9351-256a0a8ffcde"
      },
      "execution_count": null,
      "outputs": [
        {
          "output_type": "execute_result",
          "data": {
            "text/plain": [
              "'hnpormi'"
            ],
            "application/vnd.google.colaboratory.intrinsic+json": {
              "type": "string"
            }
          },
          "metadata": {},
          "execution_count": 17
        }
      ]
    },
    {
      "cell_type": "code",
      "source": [
        "a[-16:-5:]"
      ],
      "metadata": {
        "colab": {
          "base_uri": "https://localhost:8080/",
          "height": 35
        },
        "id": "ivM4qjs-6Ns_",
        "outputId": "c2bd0ad8-9f9c-4fcb-a7bd-fa2715440562"
      },
      "execution_count": null,
      "outputs": [
        {
          "output_type": "execute_result",
          "data": {
            "text/plain": [
              "'thon progra'"
            ],
            "application/vnd.google.colaboratory.intrinsic+json": {
              "type": "string"
            }
          },
          "metadata": {},
          "execution_count": 22
        }
      ]
    },
    {
      "cell_type": "markdown",
      "source": [
        "String Methods\n",
        "\n",
        "String functions and methods are essential tools in many programming languages for manipulating and processing text"
      ],
      "metadata": {
        "id": "cdUyF9fARMNw"
      }
    },
    {
      "cell_type": "code",
      "source": [
        "s = \"Python Programming\""
      ],
      "metadata": {
        "id": "r2UY9o3ETRNf"
      },
      "execution_count": 3,
      "outputs": []
    },
    {
      "cell_type": "code",
      "source": [
        "print(len(s)) # length of string\n"
      ],
      "metadata": {
        "id": "LTEjfz286eKg",
        "colab": {
          "base_uri": "https://localhost:8080/"
        },
        "outputId": "11845bfa-9e66-4465-80bc-c9f16767ec07"
      },
      "execution_count": 4,
      "outputs": [
        {
          "output_type": "stream",
          "name": "stdout",
          "text": [
            "18\n"
          ]
        }
      ]
    },
    {
      "cell_type": "code",
      "source": [
        "#str.capitalize()\n",
        "\n",
        "print(s.capitalize())  #Converts the first character of the string to uppercase and the rest to lowercase."
      ],
      "metadata": {
        "colab": {
          "base_uri": "https://localhost:8080/"
        },
        "id": "a8d_HJpyTYtB",
        "outputId": "52718d44-f597-4863-bba0-47e3377c6f87"
      },
      "execution_count": 13,
      "outputs": [
        {
          "output_type": "stream",
          "name": "stdout",
          "text": [
            "Python programming\n"
          ]
        }
      ]
    },
    {
      "cell_type": "code",
      "source": [
        "#str.upper()\n",
        "\n",
        "print(s.upper())  #Converts all characters in the string to uppercase."
      ],
      "metadata": {
        "colab": {
          "base_uri": "https://localhost:8080/"
        },
        "id": "zUlO3IHFTy7N",
        "outputId": "6ad93bc7-f5dc-4a1e-9ef6-ccbd21d7add6"
      },
      "execution_count": 6,
      "outputs": [
        {
          "output_type": "stream",
          "name": "stdout",
          "text": [
            "PYTHON PROGRAMMING\n"
          ]
        }
      ]
    },
    {
      "cell_type": "code",
      "source": [
        "#str.lower()\n",
        "print(s.lower())  #Converts all characters in the string to lowercase."
      ],
      "metadata": {
        "colab": {
          "base_uri": "https://localhost:8080/"
        },
        "id": "pOtH4N1MUH3w",
        "outputId": "0aae4cfc-ca26-47ba-9b46-6eeec8c7f01f"
      },
      "execution_count": 7,
      "outputs": [
        {
          "output_type": "stream",
          "name": "stdout",
          "text": [
            "python programming\n"
          ]
        }
      ]
    },
    {
      "cell_type": "code",
      "source": [
        "print(s.index)"
      ],
      "metadata": {
        "colab": {
          "base_uri": "https://localhost:8080/"
        },
        "id": "PY8EzdC-UK0c",
        "outputId": "de376388-3447-4911-8f36-93b2c158913b"
      },
      "execution_count": 8,
      "outputs": [
        {
          "output_type": "stream",
          "name": "stdout",
          "text": [
            "<built-in method index of str object at 0x78e06797ea60>\n"
          ]
        }
      ]
    },
    {
      "cell_type": "code",
      "source": [
        "print(s.index('m')) # to find the 'm' index value in a string"
      ],
      "metadata": {
        "colab": {
          "base_uri": "https://localhost:8080/"
        },
        "id": "BxLCwHo9UUqj",
        "outputId": "d78bb449-a8b4-4038-ca13-012a834239c8"
      },
      "execution_count": 9,
      "outputs": [
        {
          "output_type": "stream",
          "name": "stdout",
          "text": [
            "13\n"
          ]
        }
      ]
    },
    {
      "cell_type": "code",
      "source": [
        "print(s.find('m'))# to find the 'm' index value in a string"
      ],
      "metadata": {
        "colab": {
          "base_uri": "https://localhost:8080/"
        },
        "id": "rVZBdYiNUYi_",
        "outputId": "84d38112-f1a6-4719-8544-8c9df438f360"
      },
      "execution_count": 10,
      "outputs": [
        {
          "output_type": "stream",
          "name": "stdout",
          "text": [
            "13\n"
          ]
        }
      ]
    },
    {
      "cell_type": "code",
      "source": [
        "#str.title()\n",
        "\n",
        "print(s.title())  #Converts the first character of each word to uppercase."
      ],
      "metadata": {
        "colab": {
          "base_uri": "https://localhost:8080/"
        },
        "id": "BthiSuJ0UeH2",
        "outputId": "085f2d96-89f2-4735-fa01-f483c77e9e3c"
      },
      "execution_count": 11,
      "outputs": [
        {
          "output_type": "stream",
          "name": "stdout",
          "text": [
            "Python Programming\n"
          ]
        }
      ]
    },
    {
      "cell_type": "code",
      "source": [
        "#str.strip([chars])\n",
        "\n",
        "print(s.strip()) #Removes leading and trailing characters (whitespace by default)."
      ],
      "metadata": {
        "colab": {
          "base_uri": "https://localhost:8080/"
        },
        "id": "s7kBTrt8U49U",
        "outputId": "de6d5df9-f8e6-448f-f344-f68c4e05cc80"
      },
      "execution_count": 14,
      "outputs": [
        {
          "output_type": "stream",
          "name": "stdout",
          "text": [
            "Python Programming\n"
          ]
        }
      ]
    },
    {
      "cell_type": "code",
      "source": [
        "##str.lstrip([chars])\n",
        "\n",
        "print(s.lstrip()) #Removes leading characters (whitespace by default)."
      ],
      "metadata": {
        "colab": {
          "base_uri": "https://localhost:8080/"
        },
        "id": "IpOqHRG2clN7",
        "outputId": "186fe5d4-c78b-476b-e41d-8019e53f5dba"
      },
      "execution_count": 22,
      "outputs": [
        {
          "output_type": "stream",
          "name": "stdout",
          "text": [
            "Python Programming\n"
          ]
        }
      ]
    },
    {
      "cell_type": "code",
      "source": [
        "#str.rstrip([chars])\n",
        "\n",
        "print(s.rstrip()) #Removes trailing characters (whitespace by default)."
      ],
      "metadata": {
        "colab": {
          "base_uri": "https://localhost:8080/"
        },
        "id": "x_vt_49McsiB",
        "outputId": "9092b560-5ebe-4d4c-da93-25f4535da202"
      },
      "execution_count": 23,
      "outputs": [
        {
          "output_type": "stream",
          "name": "stdout",
          "text": [
            "Python Programming\n"
          ]
        }
      ]
    },
    {
      "cell_type": "code",
      "source": [
        "s"
      ],
      "metadata": {
        "colab": {
          "base_uri": "https://localhost:8080/",
          "height": 35
        },
        "id": "LxRGJyiRZ7Xv",
        "outputId": "770c6a19-5117-4453-c872-e06b5e7ae3ae"
      },
      "execution_count": 16,
      "outputs": [
        {
          "output_type": "execute_result",
          "data": {
            "text/plain": [
              "'Python Programming'"
            ],
            "application/vnd.google.colaboratory.intrinsic+json": {
              "type": "string"
            }
          },
          "metadata": {},
          "execution_count": 16
        }
      ]
    },
    {
      "cell_type": "code",
      "source": [
        "#str.replace(old, new, [count])\n",
        "\n",
        "print(s.replace(\"Python\", \"Java\")) #Replaces occurrences of a substring within the string with another substring."
      ],
      "metadata": {
        "colab": {
          "base_uri": "https://localhost:8080/"
        },
        "id": "_JSKmQltVKbm",
        "outputId": "bf964ba7-5b07-490c-bf6e-5b493805aa59"
      },
      "execution_count": 17,
      "outputs": [
        {
          "output_type": "stream",
          "name": "stdout",
          "text": [
            "Java Programming\n"
          ]
        }
      ]
    },
    {
      "cell_type": "code",
      "source": [
        "#str.split([sep, [maxsplit]])\n",
        "\n",
        "print(s.split()) #Splits the string into a list of substrings based on the specified separator.\n"
      ],
      "metadata": {
        "colab": {
          "base_uri": "https://localhost:8080/"
        },
        "id": "uSOx6BX1aJGt",
        "outputId": "b97a6fb3-a892-42c9-ac85-56250d89c647"
      },
      "execution_count": 18,
      "outputs": [
        {
          "output_type": "stream",
          "name": "stdout",
          "text": [
            "['Python', 'Programming']\n"
          ]
        }
      ]
    },
    {
      "cell_type": "code",
      "source": [
        "#str.join(iterable)\n",
        "\n",
        "print(\" \".join(s)) #Joins a sequence of strings into a single string."
      ],
      "metadata": {
        "colab": {
          "base_uri": "https://localhost:8080/"
        },
        "id": "-gojqpxZaWm7",
        "outputId": "bc9ddc7f-91a3-4e18-a15a-9a021ba4e4af"
      },
      "execution_count": 19,
      "outputs": [
        {
          "output_type": "stream",
          "name": "stdout",
          "text": [
            "P y t h o n   P r o g r a m m i n g\n"
          ]
        }
      ]
    },
    {
      "cell_type": "code",
      "source": [
        "#Str.count(sub, [start, [end]])\n",
        "\n",
        "print(s.count('m')) #Returns the number of occurrences of a substring within the string."
      ],
      "metadata": {
        "colab": {
          "base_uri": "https://localhost:8080/"
        },
        "id": "cItGIy19agsz",
        "outputId": "8cd39b49-cce3-4b99-a9c4-217685b7ee66"
      },
      "execution_count": 21,
      "outputs": [
        {
          "output_type": "stream",
          "name": "stdout",
          "text": [
            "2\n"
          ]
        }
      ]
    },
    {
      "cell_type": "code",
      "source": [
        "# string concatnation\n",
        "s1 = 'python'\n",
        "s2 = 'programming'\n",
        "s1 + s2"
      ],
      "metadata": {
        "colab": {
          "base_uri": "https://localhost:8080/",
          "height": 35
        },
        "id": "QATqb0aQcPhJ",
        "outputId": "000a19c5-137b-4988-e86a-7981170e63a1"
      },
      "execution_count": 24,
      "outputs": [
        {
          "output_type": "execute_result",
          "data": {
            "text/plain": [
              "'pythonprogramming'"
            ],
            "application/vnd.google.colaboratory.intrinsic+json": {
              "type": "string"
            }
          },
          "metadata": {},
          "execution_count": 24
        }
      ]
    },
    {
      "cell_type": "code",
      "source": [
        " print(s1,s2)"
      ],
      "metadata": {
        "colab": {
          "base_uri": "https://localhost:8080/"
        },
        "id": "xtfhsl1qgRLG",
        "outputId": "fe1bf3f0-5b6b-42ac-87fa-46368f70ef04"
      },
      "execution_count": 27,
      "outputs": [
        {
          "output_type": "stream",
          "name": "stdout",
          "text": [
            "python programming\n"
          ]
        }
      ]
    },
    {
      "cell_type": "code",
      "source": [
        "print(s1 + ' ' + s2)"
      ],
      "metadata": {
        "colab": {
          "base_uri": "https://localhost:8080/"
        },
        "id": "Wz-40RlKggqA",
        "outputId": "d7fdb02b-67b1-44af-bf80-5e2d89f2eb25"
      },
      "execution_count": 28,
      "outputs": [
        {
          "output_type": "stream",
          "name": "stdout",
          "text": [
            "python programming\n"
          ]
        }
      ]
    },
    {
      "cell_type": "code",
      "source": [
        "# string multipilication\n",
        "\n",
        "print(s1 * 3)"
      ],
      "metadata": {
        "colab": {
          "base_uri": "https://localhost:8080/"
        },
        "id": "kp4VdmYfhIYS",
        "outputId": "3892e385-8998-4d70-a704-d38056adfc1d"
      },
      "execution_count": 30,
      "outputs": [
        {
          "output_type": "stream",
          "name": "stdout",
          "text": [
            "pythonpythonpython "
          ]
        }
      ]
    },
    {
      "cell_type": "code",
      "source": [
        "print(chr(97) ) #Returns the character corresponding to the given Unicode code point."
      ],
      "metadata": {
        "colab": {
          "base_uri": "https://localhost:8080/"
        },
        "id": "Z0PQGmcaidLZ",
        "outputId": "febc260c-ea04-4c6f-d24a-b7babb3bd141"
      },
      "execution_count": 34,
      "outputs": [
        {
          "output_type": "stream",
          "name": "stdout",
          "text": [
            "a\n"
          ]
        }
      ]
    },
    {
      "cell_type": "code",
      "source": [
        "\n",
        "print(ord('a')) #Returns the Unicode code point for a single character."
      ],
      "metadata": {
        "colab": {
          "base_uri": "https://localhost:8080/"
        },
        "id": "8BSbSsQfhS_Y",
        "outputId": "905cd0d4-d5b6-4fd5-e5ed-64ffb7e163b9"
      },
      "execution_count": 33,
      "outputs": [
        {
          "output_type": "stream",
          "name": "stdout",
          "text": [
            "97\n"
          ]
        }
      ]
    },
    {
      "cell_type": "code",
      "source": [
        "num = 10\n",
        "print(type(num))  # Returns the type of the object.\n",
        "print(str(num))  # Returns a string representation of the object."
      ],
      "metadata": {
        "colab": {
          "base_uri": "https://localhost:8080/"
        },
        "id": "slyMDMUeiU4D",
        "outputId": "46b8bef3-840b-49ca-d2dc-af9eb2e9003c"
      },
      "execution_count": 36,
      "outputs": [
        {
          "output_type": "stream",
          "name": "stdout",
          "text": [
            "<class 'int'>\n",
            "10\n"
          ]
        }
      ]
    },
    {
      "cell_type": "code",
      "source": [
        "for i in s:\n",
        "  print(i,end=\" \")"
      ],
      "metadata": {
        "colab": {
          "base_uri": "https://localhost:8080/"
        },
        "id": "QnOFFRrmjSpg",
        "outputId": "20b35562-0ea4-4d82-b816-248c53c122dc"
      },
      "execution_count": 37,
      "outputs": [
        {
          "output_type": "stream",
          "name": "stdout",
          "text": [
            "P y t h o n   P r o g r a m m i n g "
          ]
        }
      ]
    },
    {
      "cell_type": "code",
      "source": [
        "for i in s:\n",
        "  print(ord(i),end=\" \")"
      ],
      "metadata": {
        "colab": {
          "base_uri": "https://localhost:8080/"
        },
        "id": "Mo9QVwnukGQf",
        "outputId": "a07c77b0-339b-4d3e-c574-bffe88e17d5a"
      },
      "execution_count": 38,
      "outputs": [
        {
          "output_type": "stream",
          "name": "stdout",
          "text": [
            "80 121 116 104 111 110 32 80 114 111 103 114 97 109 109 105 110 103 "
          ]
        }
      ]
    },
    {
      "cell_type": "code",
      "source": [
        "for i in s:\n",
        "  print(chr(ord(i)),end=\" \")"
      ],
      "metadata": {
        "colab": {
          "base_uri": "https://localhost:8080/"
        },
        "id": "7r_Kt4jtkMk1",
        "outputId": "ee8a5a2d-f7e7-4f8e-d952-9c04c0838836"
      },
      "execution_count": 39,
      "outputs": [
        {
          "output_type": "stream",
          "name": "stdout",
          "text": [
            "P y t h o n   P r o g r a m m i n g "
          ]
        }
      ]
    },
    {
      "cell_type": "code",
      "source": [
        "for i in range(65,91):\n",
        "  print(chr(i),end=\" \")"
      ],
      "metadata": {
        "colab": {
          "base_uri": "https://localhost:8080/"
        },
        "id": "Dp-DcPPJkSV-",
        "outputId": "6df7d85d-3a13-4df4-9f95-b1dbbf9d1bc2"
      },
      "execution_count": 40,
      "outputs": [
        {
          "output_type": "stream",
          "name": "stdout",
          "text": [
            "A B C D E F G H I J K L M N O P Q R S T U V W X Y Z "
          ]
        }
      ]
    },
    {
      "cell_type": "code",
      "source": [
        "for i in range(97,123):\n",
        "  print(chr(i),end=\" \")"
      ],
      "metadata": {
        "colab": {
          "base_uri": "https://localhost:8080/"
        },
        "id": "JbLABvttkZKX",
        "outputId": "6df25bcd-5cc0-4035-d75f-2c1938203aa5"
      },
      "execution_count": 41,
      "outputs": [
        {
          "output_type": "stream",
          "name": "stdout",
          "text": [
            "a b c d e f g h i j k l m n o p q r s t u v w x y z "
          ]
        }
      ]
    },
    {
      "cell_type": "code",
      "source": [
        "for i in range(65,91,3):\n",
        "  print(i,end=\" \")"
      ],
      "metadata": {
        "colab": {
          "base_uri": "https://localhost:8080/"
        },
        "id": "TqGiYjKRk0a0",
        "outputId": "8f47f09d-7a70-4421-9a56-db4237baf940"
      },
      "execution_count": 43,
      "outputs": [
        {
          "output_type": "stream",
          "name": "stdout",
          "text": [
            "65 68 71 74 77 80 83 86 89 "
          ]
        }
      ]
    },
    {
      "cell_type": "code",
      "source": [],
      "metadata": {
        "id": "MlAhJcoEk6ii"
      },
      "execution_count": null,
      "outputs": []
    },
    {
      "cell_type": "markdown",
      "source": [
        "# Arrays in python\n",
        "\n",
        "\n",
        "Arrays in Python can be handled using lists, the built-in array module, or more advanced libraries like numpy\n",
        "\n",
        "Lists\n",
        "\n",
        "Lists are the most commonly used data structures in Python that can act like arrays. They can hold elements of any data type."
      ],
      "metadata": {
        "id": "I1-7vRAYo76f"
      }
    },
    {
      "cell_type": "code",
      "source": [
        "# Creating a list\n",
        "my_list = [1, 2, 3, 4, 5]\n",
        "my_list\n"
      ],
      "metadata": {
        "colab": {
          "base_uri": "https://localhost:8080/"
        },
        "id": "OZUBiAAhpNw-",
        "outputId": "78418aaa-ecc2-4d4c-805d-842e27bbccb8"
      },
      "execution_count": 45,
      "outputs": [
        {
          "output_type": "execute_result",
          "data": {
            "text/plain": [
              "[1, 2, 3, 4, 5]"
            ]
          },
          "metadata": {},
          "execution_count": 45
        }
      ]
    },
    {
      "cell_type": "code",
      "source": [
        "# Accessing elements\n",
        "print(my_list[0])    # Output: 1\n",
        "print(my_list[-1])  # Output: 5 (last element)"
      ],
      "metadata": {
        "colab": {
          "base_uri": "https://localhost:8080/"
        },
        "id": "GBST61x-prXo",
        "outputId": "836673ed-67d1-44a6-9c81-4e3adceb4a75"
      },
      "execution_count": 46,
      "outputs": [
        {
          "output_type": "stream",
          "name": "stdout",
          "text": [
            "1\n",
            "5\n"
          ]
        }
      ]
    },
    {
      "cell_type": "code",
      "source": [
        "# Adding elements\n",
        "my_list.append(6)\n",
        "print(my_list)  # Output: [10, 2, 3, 4, 5, 6]\n",
        "\n",
        "# Inserting elements at a specific position\n",
        "my_list.insert(1, 15)\n",
        "print(my_list)  # Output: [10, 15, 2, 3, 4, 5, 6]"
      ],
      "metadata": {
        "colab": {
          "base_uri": "https://localhost:8080/"
        },
        "id": "Ha1-JDsBppAN",
        "outputId": "ac2a6410-50fa-418a-d2df-2cb935f6a9ae"
      },
      "execution_count": 47,
      "outputs": [
        {
          "output_type": "stream",
          "name": "stdout",
          "text": [
            "[1, 2, 3, 4, 5, 6]\n",
            "[1, 15, 2, 3, 4, 5, 6]\n"
          ]
        }
      ]
    },
    {
      "cell_type": "code",
      "source": [
        "# Removing elements\n",
        "my_list.remove(15)\n",
        "print(my_list)  # Output: [10, 2, 3, 4, 5, 6]\n",
        "\n",
        "# Removing elements by index\n",
        "del my_list[0]\n",
        "print(my_list)  # Output: [2, 3, 4, 5, 6]"
      ],
      "metadata": {
        "colab": {
          "base_uri": "https://localhost:8080/"
        },
        "id": "s9qv5cEsqKqR",
        "outputId": "c07511fa-0f5c-4598-fdf3-ff01585058b3"
      },
      "execution_count": 48,
      "outputs": [
        {
          "output_type": "stream",
          "name": "stdout",
          "text": [
            "[1, 2, 3, 4, 5, 6]\n",
            "[2, 3, 4, 5, 6]\n"
          ]
        }
      ]
    },
    {
      "cell_type": "code",
      "source": [
        "# Slicing\n",
        "print(my_list[1:4])  # Output: [3, 4, 5]"
      ],
      "metadata": {
        "colab": {
          "base_uri": "https://localhost:8080/"
        },
        "id": "5TbImD5tqR-k",
        "outputId": "0a00fa18-0966-4fe8-f30e-66ce4b4c7894"
      },
      "execution_count": 49,
      "outputs": [
        {
          "output_type": "stream",
          "name": "stdout",
          "text": [
            "[3, 4, 5]\n"
          ]
        }
      ]
    },
    {
      "cell_type": "markdown",
      "source": [
        "#array Module\n",
        "The array module provides a more efficient way to store an array of basic data types. Arrays created with the array module can only contain elements of the same type."
      ],
      "metadata": {
        "id": "_odhyn21o72_"
      }
    },
    {
      "cell_type": "code",
      "source": [
        "import array as arr\n",
        "\n",
        "# Creating an array of integers\n",
        "my_array = arr.array('i',[1, 2, 3, 4, 5])"
      ],
      "metadata": {
        "id": "jTwn74grqf_T"
      },
      "execution_count": 55,
      "outputs": []
    },
    {
      "cell_type": "code",
      "source": [],
      "metadata": {
        "colab": {
          "base_uri": "https://localhost:8080/"
        },
        "id": "T3zmQXaaqlHA",
        "outputId": "d5250c2b-5d07-49e7-923b-ead7a166d6c3"
      },
      "execution_count": 51,
      "outputs": [
        {
          "output_type": "execute_result",
          "data": {
            "text/plain": [
              "array('i', [1, 2, 3, 4, 5])"
            ]
          },
          "metadata": {},
          "execution_count": 51
        }
      ]
    },
    {
      "cell_type": "code",
      "source": [
        "# Accessing elements\n",
        "print(my_array[0])  # Output: 1\n",
        "\n",
        "# Modifying elements\n",
        "my_array[0] = 10\n",
        "print(my_array)  # Output: array('i', [10, 2, 3, 4, 5])"
      ],
      "metadata": {
        "colab": {
          "base_uri": "https://localhost:8080/"
        },
        "id": "7kh416eOqn8s",
        "outputId": "f45e7725-a47c-43b1-e273-5cb2bfa0a133"
      },
      "execution_count": 58,
      "outputs": [
        {
          "output_type": "stream",
          "name": "stdout",
          "text": [
            "1\n",
            "array('i', [10, 2, 3, 4, 5, 6, 6])\n"
          ]
        }
      ]
    },
    {
      "cell_type": "code",
      "source": [
        "# Adding elements\n",
        "my_array.append(6)\n",
        "print(my_array)  # Output: array('i', [10, 2, 3, 4, 5, 6])\n",
        "\n",
        "# Removing elements\n",
        "my_array.remove(10)\n",
        "print(my_array)  # Output: array('i', [2, 3, 4, 5, 6])"
      ],
      "metadata": {
        "colab": {
          "base_uri": "https://localhost:8080/"
        },
        "id": "d-3a6hNGqveN",
        "outputId": "1487b814-0dcb-4958-e309-b4c3cbf49028"
      },
      "execution_count": 59,
      "outputs": [
        {
          "output_type": "stream",
          "name": "stdout",
          "text": [
            "array('i', [10, 2, 3, 4, 5, 6, 6, 6])\n",
            "array('i', [2, 3, 4, 5, 6, 6, 6])\n"
          ]
        }
      ]
    },
    {
      "cell_type": "code",
      "source": [],
      "metadata": {
        "id": "qSNnf3By1B5C"
      },
      "execution_count": null,
      "outputs": []
    }
  ]
}