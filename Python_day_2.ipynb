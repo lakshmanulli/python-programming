{
  "nbformat": 4,
  "nbformat_minor": 0,
  "metadata": {
    "colab": {
      "provenance": [],
      "include_colab_link": true
    },
    "kernelspec": {
      "name": "python3",
      "display_name": "Python 3"
    },
    "language_info": {
      "name": "python"
    }
  },
  "cells": [
    {
      "cell_type": "markdown",
      "metadata": {
        "id": "view-in-github",
        "colab_type": "text"
      },
      "source": [
        "<a href=\"https://colab.research.google.com/github/lakshmanulli/python-programming/blob/main/Python_day_2.ipynb\" target=\"_parent\"><img src=\"https://colab.research.google.com/assets/colab-badge.svg\" alt=\"Open In Colab\"/></a>"
      ]
    },
    {
      "cell_type": "markdown",
      "source": [
        "# AGENDA\n",
        "1. Operators\n",
        "  - Arithmatic\n",
        "2. String methods\n"
      ],
      "metadata": {
        "id": "KwKRqScclZ_C"
      }
    },
    {
      "cell_type": "markdown",
      "source": [
        "### **Arithmatic Operators**\n",
        "\n",
        "|Operation|Meaning|\n",
        "|:-:|:-:|\n",
        "| **+** |addition|\n",
        "| **-** |subtraction|\n",
        "| **\\*** |multiplication|\n",
        "| **/** |true division|\n",
        "| **//** |integer division|\n",
        "| **%** |the modulo operator|\n",
        "\n",
        "\n",
        "Here `+`, `-`, `*`, `/` are regular arithmatic operators. Lets look at the `//` and `%` operators\n",
        "\n",
        "Usecase or examples -\n",
        "    \n",
        "```python\n",
        "var_a = 5\n",
        "var_b = 25\n",
        "integer_division = var_b // var_a\n",
        "print(f\"integer division: {var_b}/{var_a}={integer_division}\")\n",
        "```\n",
        "\n",
        "OUTPUT: integer division: 25/5=5\n",
        "\n",
        "```python\n",
        "var_a = 3\n",
        "var_b = 25\n",
        "integer_division = var_b // var_a\n",
        "print(f\"integer division: {var_b}/{var_a}={integer_division}\")\n",
        "```\n",
        "\n",
        "OUTPUT: integer division: 25/3=8\n",
        "\n",
        "```python\n",
        "var_a = 5\n",
        "var_b = 25\n",
        "remainder = var_b % var_a\n",
        "print(f\"remainder: {var_b}/{var_a} is {remainder}\")\n",
        "```\n",
        "\n",
        "OUTPUT: remainder: 25/5 is 0\n",
        "\n",
        "```python\n",
        "var_a = 3\n",
        "var_b = 25\n",
        "remainder = var_b % var_a\n",
        "print(f\"remainder: {var_b}/{var_a} is {remainder}\")\n",
        "```\n",
        "\n",
        "OUTPUT: remainder: 25/3 is 1\n",
        "\n"
      ],
      "metadata": {
        "id": "00gtlTl6A_Iv"
      }
    },
    {
      "cell_type": "code",
      "source": [
        "A = 22\n",
        "B = 23\n",
        "\n",
        "A + B"
      ],
      "metadata": {
        "id": "1Lva-RcBI7pA",
        "colab": {
          "base_uri": "https://localhost:8080/"
        },
        "outputId": "a26cb297-b586-4672-a87b-7c109a37783c"
      },
      "execution_count": 2,
      "outputs": [
        {
          "output_type": "execute_result",
          "data": {
            "text/plain": [
              "45"
            ]
          },
          "metadata": {},
          "execution_count": 2
        }
      ]
    },
    {
      "cell_type": "code",
      "source": [
        "A - B"
      ],
      "metadata": {
        "colab": {
          "base_uri": "https://localhost:8080/"
        },
        "id": "ftWOuZmJBT04",
        "outputId": "f395f3a0-5c77-47ec-9328-681bf61ef5b0"
      },
      "execution_count": 3,
      "outputs": [
        {
          "output_type": "execute_result",
          "data": {
            "text/plain": [
              "-1"
            ]
          },
          "metadata": {},
          "execution_count": 3
        }
      ]
    },
    {
      "cell_type": "code",
      "source": [
        "A / B"
      ],
      "metadata": {
        "colab": {
          "base_uri": "https://localhost:8080/"
        },
        "id": "13yNMpk5Bcm3",
        "outputId": "5a53a62e-79a1-4554-a015-956bb324fa60"
      },
      "execution_count": 4,
      "outputs": [
        {
          "output_type": "execute_result",
          "data": {
            "text/plain": [
              "0.9565217391304348"
            ]
          },
          "metadata": {},
          "execution_count": 4
        }
      ]
    },
    {
      "cell_type": "code",
      "source": [
        "A // B"
      ],
      "metadata": {
        "colab": {
          "base_uri": "https://localhost:8080/"
        },
        "id": "-GeaMJLUBjEP",
        "outputId": "774fcd1d-5abe-4a38-f223-e10e39f57e30"
      },
      "execution_count": null,
      "outputs": [
        {
          "output_type": "execute_result",
          "data": {
            "text/plain": [
              "0"
            ]
          },
          "metadata": {},
          "execution_count": 4
        }
      ]
    },
    {
      "cell_type": "code",
      "source": [
        "A = 5\n",
        "B = 2\n",
        "\n",
        "A // B"
      ],
      "metadata": {
        "colab": {
          "base_uri": "https://localhost:8080/"
        },
        "id": "TLDn7qOhBnB_",
        "outputId": "c6d0733b-ddd8-4d02-d608-5877b4900d45"
      },
      "execution_count": 5,
      "outputs": [
        {
          "output_type": "execute_result",
          "data": {
            "text/plain": [
              "2"
            ]
          },
          "metadata": {},
          "execution_count": 5
        }
      ]
    },
    {
      "cell_type": "code",
      "source": [
        "A % B"
      ],
      "metadata": {
        "colab": {
          "base_uri": "https://localhost:8080/"
        },
        "id": "FkvGdikYByX3",
        "outputId": "c0860e08-e913-4ea3-e975-9138c1d779d5"
      },
      "execution_count": 7,
      "outputs": [
        {
          "output_type": "execute_result",
          "data": {
            "text/plain": [
              "0"
            ]
          },
          "metadata": {},
          "execution_count": 7
        }
      ]
    },
    {
      "cell_type": "code",
      "source": [
        "A = 4\n",
        "B = 2\n",
        "\n",
        "A % B"
      ],
      "metadata": {
        "colab": {
          "base_uri": "https://localhost:8080/"
        },
        "id": "gn-SABT4B1d-",
        "outputId": "9e5ee0d2-87ad-485b-e418-f4a0ee41860c"
      },
      "execution_count": 6,
      "outputs": [
        {
          "output_type": "execute_result",
          "data": {
            "text/plain": [
              "0"
            ]
          },
          "metadata": {},
          "execution_count": 6
        }
      ]
    },
    {
      "cell_type": "code",
      "source": [
        "A = 55\n",
        "B = 2\n",
        "\n",
        "\n",
        "if A % B == 0:\n",
        "  print(f\"A: {A} is divisible by B: {B}\")\n",
        "else:\n",
        "  print(f\"A: {A} is NOT divisible by B: {B}\")"
      ],
      "metadata": {
        "colab": {
          "base_uri": "https://localhost:8080/"
        },
        "id": "MYXFI_30Cdx3",
        "outputId": "71615ab4-1d81-424f-a833-8654c366808c"
      },
      "execution_count": 8,
      "outputs": [
        {
          "output_type": "stream",
          "name": "stdout",
          "text": [
            "A: 55 is NOT divisible by B: 2\n"
          ]
        }
      ]
    },
    {
      "cell_type": "code",
      "source": [
        "A = 54\n",
        "B = 2\n",
        "\n",
        "\n",
        "if A % B == 0:\n",
        "  print(f\"A: {A} is divisible by B: {B}\")\n",
        "else:\n",
        "  print(f\"A: {A} is NOT divisible by B: {B}\")"
      ],
      "metadata": {
        "colab": {
          "base_uri": "https://localhost:8080/"
        },
        "id": "93U_bSrnC9iW",
        "outputId": "34582662-f4e3-45b3-8c63-a788830cdc79"
      },
      "execution_count": 9,
      "outputs": [
        {
          "output_type": "stream",
          "name": "stdout",
          "text": [
            "A: 54 is divisible by B: 2\n"
          ]
        }
      ]
    },
    {
      "cell_type": "code",
      "source": [
        "A = 54\n",
        "B = 3\n",
        "\n",
        "\n",
        "if A % B == 0:\n",
        "  print(f\"A: {A} is divisible by B: {B}\")\n",
        "else:\n",
        "  print(f\"A: {A} is NOT divisible by B: {B}\")"
      ],
      "metadata": {
        "colab": {
          "base_uri": "https://localhost:8080/"
        },
        "id": "jrbTo984DA41",
        "outputId": "eb7637a9-f537-4578-c543-db773d4e63d9"
      },
      "execution_count": 10,
      "outputs": [
        {
          "output_type": "stream",
          "name": "stdout",
          "text": [
            "A: 54 is divisible by B: 3\n"
          ]
        }
      ]
    },
    {
      "cell_type": "code",
      "source": [
        "A = 55\n",
        "B = 3\n",
        "\n",
        "\n",
        "if A % B == 0:\n",
        "  print(f\"A: {A} is divisible by B: {B}\")\n",
        "else:\n",
        "  print(f\"A: {A} is NOT divisible by B: {B}\")"
      ],
      "metadata": {
        "colab": {
          "base_uri": "https://localhost:8080/"
        },
        "id": "5GomCbNmDKJW",
        "outputId": "67e06a16-163f-46cb-c3f8-8535b66120b0"
      },
      "execution_count": 11,
      "outputs": [
        {
          "output_type": "stream",
          "name": "stdout",
          "text": [
            "A: 55 is NOT divisible by B: 3\n"
          ]
        }
      ]
    },
    {
      "cell_type": "code",
      "source": [
        "A = 4\n",
        "\n",
        "A**(1/2)"
      ],
      "metadata": {
        "colab": {
          "base_uri": "https://localhost:8080/"
        },
        "id": "o4ebP8LRDNzU",
        "outputId": "af4a7962-064c-4a54-8114-404495a4bb20"
      },
      "execution_count": 12,
      "outputs": [
        {
          "output_type": "execute_result",
          "data": {
            "text/plain": [
              "2.0"
            ]
          },
          "metadata": {},
          "execution_count": 12
        }
      ]
    },
    {
      "cell_type": "markdown",
      "source": [
        "### String methods"
      ],
      "metadata": {
        "id": "DpmdbomsD6Kv"
      }
    },
    {
      "cell_type": "markdown",
      "source": [
        "if N characters or elements are there in a string then\n",
        "\n",
        "the index range will vary from 0 to N-1\n",
        "for example is \"lucky\" N = 5\n",
        "index value is ranging from 0 to 4\n",
        "\n",
        "to index in reverse order the index  ranges from -1 to -N"
      ],
      "metadata": {
        "id": "AsJSiyAJFItT"
      }
    },
    {
      "cell_type": "code",
      "source": [
        "# String indexing\n",
        "#       01234\n",
        "#       -5-4-3-2-1\n",
        "name = \"Lucky\"\n",
        "\n",
        "name[0]"
      ],
      "metadata": {
        "colab": {
          "base_uri": "https://localhost:8080/",
          "height": 35
        },
        "id": "_5eVyygjERpM",
        "outputId": "ce26a530-c88a-4ce2-f38f-069d2657db0f"
      },
      "execution_count": 14,
      "outputs": [
        {
          "output_type": "execute_result",
          "data": {
            "text/plain": [
              "'L'"
            ],
            "application/vnd.google.colaboratory.intrinsic+json": {
              "type": "string"
            }
          },
          "metadata": {},
          "execution_count": 14
        }
      ]
    },
    {
      "cell_type": "code",
      "source": [
        "name[4]"
      ],
      "metadata": {
        "colab": {
          "base_uri": "https://localhost:8080/",
          "height": 35
        },
        "id": "--Zr02U1EyyV",
        "outputId": "bd4d2a16-7193-44f9-e59e-dc68f16292a3"
      },
      "execution_count": 15,
      "outputs": [
        {
          "output_type": "execute_result",
          "data": {
            "text/plain": [
              "'y'"
            ],
            "application/vnd.google.colaboratory.intrinsic+json": {
              "type": "string"
            }
          },
          "metadata": {},
          "execution_count": 15
        }
      ]
    },
    {
      "cell_type": "code",
      "source": [
        "name[-1]"
      ],
      "metadata": {
        "colab": {
          "base_uri": "https://localhost:8080/",
          "height": 35
        },
        "id": "GhOUWsFwE1tW",
        "outputId": "dd583d11-7d19-4fca-bd65-7525fd40d35e"
      },
      "execution_count": 16,
      "outputs": [
        {
          "output_type": "execute_result",
          "data": {
            "text/plain": [
              "'y'"
            ],
            "application/vnd.google.colaboratory.intrinsic+json": {
              "type": "string"
            }
          },
          "metadata": {},
          "execution_count": 16
        }
      ]
    },
    {
      "cell_type": "code",
      "source": [
        "name[-5]"
      ],
      "metadata": {
        "colab": {
          "base_uri": "https://localhost:8080/",
          "height": 35
        },
        "id": "-Z7zD1XRE9b_",
        "outputId": "c6b37755-3f35-41e6-b768-71945dd81dc7"
      },
      "execution_count": 17,
      "outputs": [
        {
          "output_type": "execute_result",
          "data": {
            "text/plain": [
              "'L'"
            ],
            "application/vnd.google.colaboratory.intrinsic+json": {
              "type": "string"
            }
          },
          "metadata": {},
          "execution_count": 17
        }
      ]
    },
    {
      "cell_type": "code",
      "source": [
        "# String slicing\n",
        "#       01234\n",
        "#       -5-4-3-2-1\n",
        "name = \"Lucky\"\n",
        "\n",
        "name[1:] # [starting: ending]"
      ],
      "metadata": {
        "colab": {
          "base_uri": "https://localhost:8080/",
          "height": 35
        },
        "id": "Xku-LeOWFqcr",
        "outputId": "5a73e631-8f59-46a8-f290-9b550e8d3d82"
      },
      "execution_count": 18,
      "outputs": [
        {
          "output_type": "execute_result",
          "data": {
            "text/plain": [
              "'ucky'"
            ],
            "application/vnd.google.colaboratory.intrinsic+json": {
              "type": "string"
            }
          },
          "metadata": {},
          "execution_count": 18
        }
      ]
    },
    {
      "cell_type": "code",
      "source": [
        "name[1:3] # This means that ending is excluded"
      ],
      "metadata": {
        "colab": {
          "base_uri": "https://localhost:8080/",
          "height": 35
        },
        "id": "POxkXPRwGKa8",
        "outputId": "d0b32696-d3fd-4a9b-f679-85fb0dd037e1"
      },
      "execution_count": 19,
      "outputs": [
        {
          "output_type": "execute_result",
          "data": {
            "text/plain": [
              "'uc'"
            ],
            "application/vnd.google.colaboratory.intrinsic+json": {
              "type": "string"
            }
          },
          "metadata": {},
          "execution_count": 19
        }
      ]
    },
    {
      "cell_type": "code",
      "source": [
        "name[1:4]"
      ],
      "metadata": {
        "colab": {
          "base_uri": "https://localhost:8080/",
          "height": 35
        },
        "id": "TUJu5iyhGQxU",
        "outputId": "3eaaf37f-e56e-40b9-c920-d097827ecdab"
      },
      "execution_count": 20,
      "outputs": [
        {
          "output_type": "execute_result",
          "data": {
            "text/plain": [
              "'uck'"
            ],
            "application/vnd.google.colaboratory.intrinsic+json": {
              "type": "string"
            }
          },
          "metadata": {},
          "execution_count": 20
        }
      ]
    },
    {
      "cell_type": "code",
      "source": [
        "name[1:5] # 5 is not included"
      ],
      "metadata": {
        "colab": {
          "base_uri": "https://localhost:8080/",
          "height": 35
        },
        "id": "SYloGBiOGeeq",
        "outputId": "ba1371cc-e946-4419-ea37-4ae9ee661c38"
      },
      "execution_count": 21,
      "outputs": [
        {
          "output_type": "execute_result",
          "data": {
            "text/plain": [
              "'ucky'"
            ],
            "application/vnd.google.colaboratory.intrinsic+json": {
              "type": "string"
            }
          },
          "metadata": {},
          "execution_count": 21
        }
      ]
    },
    {
      "cell_type": "code",
      "source": [
        "name[-4:-1]"
      ],
      "metadata": {
        "colab": {
          "base_uri": "https://localhost:8080/",
          "height": 35
        },
        "id": "LCWoF644GlGS",
        "outputId": "1cec1928-5b93-421e-baf4-30c45788b486"
      },
      "execution_count": 22,
      "outputs": [
        {
          "output_type": "execute_result",
          "data": {
            "text/plain": [
              "'uck'"
            ],
            "application/vnd.google.colaboratory.intrinsic+json": {
              "type": "string"
            }
          },
          "metadata": {},
          "execution_count": 22
        }
      ]
    },
    {
      "cell_type": "code",
      "source": [
        "# index 0123456789\n",
        "date = \"02/04/2024\"\n",
        "\n",
        "# today's date, Month and year\n",
        "\n",
        "today_s_date = date[0:2]\n",
        "month = date[3:5]\n",
        "year = date[6:]\n",
        "\n",
        "print(f\"its {today_s_date}th of the month: {month} of the year: {year}\")"
      ],
      "metadata": {
        "colab": {
          "base_uri": "https://localhost:8080/"
        },
        "id": "G79J1ssnGuqj",
        "outputId": "bdaa5092-f9a0-46ec-8e2b-3b23f531e059"
      },
      "execution_count": 23,
      "outputs": [
        {
          "output_type": "stream",
          "name": "stdout",
          "text": [
            "its 02th of the month: 04 of the year: 2024\n"
          ]
        }
      ]
    },
    {
      "cell_type": "code",
      "source": [
        "# index 0123456789\n",
        "data = input(\"enter date of birth in the format DD/MM/YYYY: \")\n",
        "\n",
        "# today's date, Month and year\n",
        "\n",
        "date = data[0:2]\n",
        "month = data[3:5]\n",
        "year = data[6:]\n",
        "\n",
        "print(f\"The user was born in the month of {month} in the year: {year} on date: {date}\")"
      ],
      "metadata": {
        "colab": {
          "base_uri": "https://localhost:8080/"
        },
        "id": "R7ZfEFAQH5ep",
        "outputId": "bca49d19-8ffc-47d5-adeb-676d51461816"
      },
      "execution_count": 25,
      "outputs": [
        {
          "output_type": "stream",
          "name": "stdout",
          "text": [
            "enter date of birth in the format DD/MM/YYYY: 24/08/2000\n",
            "The user was born in the month of 08 in the year: 2000 on date: 24\n"
          ]
        }
      ]
    },
    {
      "cell_type": "code",
      "source": [
        "# index 0123456789                              012345678\n",
        "data = input(\"enter date of birth in the format DD/MMM/YYYY: \")\n",
        "\n",
        "# today's date, Month and year\n",
        "\n",
        "date = data[0:2]\n",
        "month = data[3:6]\n",
        "year = data[7:]\n",
        "\n",
        "print(f\"The user was born in the month of {month} in the year: {year} on date: {date}\")"
      ],
      "metadata": {
        "colab": {
          "base_uri": "https://localhost:8080/"
        },
        "id": "-AHFqGztIfRS",
        "outputId": "f737260f-478c-4b4e-fbd6-011e91b6695f"
      },
      "execution_count": 26,
      "outputs": [
        {
          "output_type": "stream",
          "name": "stdout",
          "text": [
            "enter date of birth in the format DD/MMM/YYYY: 24/08/2000\n",
            "The user was born in the month of 08/ in the year: 000 on date: 24\n"
          ]
        }
      ]
    },
    {
      "cell_type": "code",
      "source": [
        "name = \"Lucky\"\n",
        "\n",
        "name[0:5:2] # start: ending: step"
      ],
      "metadata": {
        "colab": {
          "base_uri": "https://localhost:8080/",
          "height": 35
        },
        "id": "O_THqkWIJ5VS",
        "outputId": "33fcab11-5722-4688-8dbf-06f2a8320c1d"
      },
      "execution_count": 27,
      "outputs": [
        {
          "output_type": "execute_result",
          "data": {
            "text/plain": [
              "'Lcy'"
            ],
            "application/vnd.google.colaboratory.intrinsic+json": {
              "type": "string"
            }
          },
          "metadata": {},
          "execution_count": 27
        }
      ]
    },
    {
      "cell_type": "code",
      "source": [
        "\n",
        "name[0::2] # start: ending: step"
      ],
      "metadata": {
        "colab": {
          "base_uri": "https://localhost:8080/",
          "height": 35
        },
        "id": "GQUVog1PKLmQ",
        "outputId": "36d04874-fd3b-480d-fd6b-ea016eddf4d8"
      },
      "execution_count": 28,
      "outputs": [
        {
          "output_type": "execute_result",
          "data": {
            "text/plain": [
              "'Lcy'"
            ],
            "application/vnd.google.colaboratory.intrinsic+json": {
              "type": "string"
            }
          },
          "metadata": {},
          "execution_count": 28
        }
      ]
    },
    {
      "cell_type": "code",
      "source": [
        "\n",
        "name[0:5:3] # start: ending: step"
      ],
      "metadata": {
        "colab": {
          "base_uri": "https://localhost:8080/",
          "height": 35
        },
        "id": "SILt0JbOKQVR",
        "outputId": "9658e546-40c9-4cf1-fabf-989610dfb72e"
      },
      "execution_count": 29,
      "outputs": [
        {
          "output_type": "execute_result",
          "data": {
            "text/plain": [
              "'Lk'"
            ],
            "application/vnd.google.colaboratory.intrinsic+json": {
              "type": "string"
            }
          },
          "metadata": {},
          "execution_count": 29
        }
      ]
    },
    {
      "cell_type": "code",
      "source": [
        "name = \"Lucky Lakshman\"\n",
        "\n",
        "name[0::2]"
      ],
      "metadata": {
        "colab": {
          "base_uri": "https://localhost:8080/",
          "height": 35
        },
        "id": "_t37ZmRTK8Uj",
        "outputId": "7468cfd5-eab6-466c-a4d7-313cd240fc1c"
      },
      "execution_count": 30,
      "outputs": [
        {
          "output_type": "execute_result",
          "data": {
            "text/plain": [
              "'LcyLkha'"
            ],
            "application/vnd.google.colaboratory.intrinsic+json": {
              "type": "string"
            }
          },
          "metadata": {},
          "execution_count": 30
        }
      ]
    },
    {
      "cell_type": "code",
      "source": [
        "name = \"Lucky Lakshman\"\n",
        "\n",
        "name[0::3]"
      ],
      "metadata": {
        "colab": {
          "base_uri": "https://localhost:8080/",
          "height": 35
        },
        "id": "-UbWADW2LR1P",
        "outputId": "985e7550-505f-4c1f-bf2a-76f9bd5d4eae"
      },
      "execution_count": 31,
      "outputs": [
        {
          "output_type": "execute_result",
          "data": {
            "text/plain": [
              "'LkLsa'"
            ],
            "application/vnd.google.colaboratory.intrinsic+json": {
              "type": "string"
            }
          },
          "metadata": {},
          "execution_count": 31
        }
      ]
    },
    {
      "cell_type": "code",
      "source": [
        "name = \"Lucky Lakshman\"\n",
        "\n",
        "name[::2]"
      ],
      "metadata": {
        "colab": {
          "base_uri": "https://localhost:8080/",
          "height": 35
        },
        "id": "RRyWntMnLWvm",
        "outputId": "cc15deff-20d0-4720-bfa6-8539e5ac4b3a"
      },
      "execution_count": 32,
      "outputs": [
        {
          "output_type": "execute_result",
          "data": {
            "text/plain": [
              "'LcyLkha'"
            ],
            "application/vnd.google.colaboratory.intrinsic+json": {
              "type": "string"
            }
          },
          "metadata": {},
          "execution_count": 32
        }
      ]
    },
    {
      "cell_type": "code",
      "source": [
        "name = \"Lucky Lakshman\"\n",
        "\n",
        "name[::3]"
      ],
      "metadata": {
        "colab": {
          "base_uri": "https://localhost:8080/",
          "height": 35
        },
        "id": "Hy18rzGCLjuA",
        "outputId": "31337a1b-1823-47bb-e8a4-825a780f4656"
      },
      "execution_count": 33,
      "outputs": [
        {
          "output_type": "execute_result",
          "data": {
            "text/plain": [
              "'LkLsa'"
            ],
            "application/vnd.google.colaboratory.intrinsic+json": {
              "type": "string"
            }
          },
          "metadata": {},
          "execution_count": 33
        }
      ]
    },
    {
      "cell_type": "code",
      "source": [
        "name = \"Lucky Lakshman\"\n",
        "\n",
        "name[::-1]"
      ],
      "metadata": {
        "colab": {
          "base_uri": "https://localhost:8080/",
          "height": 35
        },
        "id": "CK8qY9qFLmWf",
        "outputId": "5e1fc93e-0ae9-46a5-f299-c423c450495c"
      },
      "execution_count": 34,
      "outputs": [
        {
          "output_type": "execute_result",
          "data": {
            "text/plain": [
              "'namhskaL ykcuL'"
            ],
            "application/vnd.google.colaboratory.intrinsic+json": {
              "type": "string"
            }
          },
          "metadata": {},
          "execution_count": 34
        }
      ]
    },
    {
      "cell_type": "code",
      "source": [
        "name = \"Lucky Lakshman\"\n",
        "\n",
        "name[::-2]"
      ],
      "metadata": {
        "colab": {
          "base_uri": "https://localhost:8080/",
          "height": 35
        },
        "id": "To6FgWWaLspP",
        "outputId": "601cb899-b9ca-453a-f051-f1db982a310d"
      },
      "execution_count": 35,
      "outputs": [
        {
          "output_type": "execute_result",
          "data": {
            "text/plain": [
              "'nmsa ku'"
            ],
            "application/vnd.google.colaboratory.intrinsic+json": {
              "type": "string"
            }
          },
          "metadata": {},
          "execution_count": 35
        }
      ]
    },
    {
      "cell_type": "code",
      "source": [
        "# Palindrome sequence\n",
        "# madam # read from left or right it will be same\n",
        "# malayalam\n",
        "# nayan\n",
        "# bob\n",
        "# Radar\n",
        "\n",
        "data = input(\"input a string: \")\n",
        "reverse = data[::-1] # start: end: step\n",
        "\n",
        "print(data, reverse)"
      ],
      "metadata": {
        "colab": {
          "base_uri": "https://localhost:8080/"
        },
        "id": "XKWfQiVBJCHB",
        "outputId": "417210eb-c21b-4ffa-8215-e495f2e00b8a"
      },
      "execution_count": 36,
      "outputs": [
        {
          "output_type": "stream",
          "name": "stdout",
          "text": [
            "input a string: hello\n",
            "hello olleh\n"
          ]
        }
      ]
    },
    {
      "cell_type": "code",
      "source": [
        "data = input(\"input a string: \")\n",
        "reverse = data[::-1] # start: end: step\n",
        "\n",
        "if data == reverse:\n",
        "  print(f\"input string: {data} is palindrome\")\n",
        "else:\n",
        "  print(f\"input string: {data} is NOT a palindrome\")"
      ],
      "metadata": {
        "colab": {
          "base_uri": "https://localhost:8080/"
        },
        "id": "rMvk8tsaMCJZ",
        "outputId": "07d579d9-f089-4549-ac32-52ebc1478de0"
      },
      "execution_count": 37,
      "outputs": [
        {
          "output_type": "stream",
          "name": "stdout",
          "text": [
            "input a string: lucky\n",
            "input string: lucky is NOT a palindrome\n"
          ]
        }
      ]
    },
    {
      "cell_type": "code",
      "source": [
        "data = input(\"input a string: \")\n",
        "reverse = data[::-1] # start: end: step\n",
        "\n",
        "if data == reverse:\n",
        "  print(f\"input string: {data} is palindrome\")\n",
        "else:\n",
        "  print(f\"input string: {data} is NOT a palindrome\")"
      ],
      "metadata": {
        "colab": {
          "base_uri": "https://localhost:8080/"
        },
        "id": "8F624QrWMf8f",
        "outputId": "e5d0661d-55ee-44dc-b43e-a8d966684258"
      },
      "execution_count": 38,
      "outputs": [
        {
          "output_type": "stream",
          "name": "stdout",
          "text": [
            "input a string: madam\n",
            "input string: madam is palindrome\n"
          ]
        }
      ]
    },
    {
      "cell_type": "code",
      "source": [
        "data = input(\"input a string: \")\n",
        "reverse = data[::-1] # start: end: step\n",
        "\n",
        "if data == reverse:\n",
        "  print(f\"input string: {data} is palindrome\")\n",
        "else:\n",
        "  print(f\"input string: {data} is NOT a palindrome\")"
      ],
      "metadata": {
        "id": "YM8YSeM_MjdQ",
        "colab": {
          "base_uri": "https://localhost:8080/"
        },
        "outputId": "8fb85e53-628e-4f8a-e370-7c8c3960b5dc"
      },
      "execution_count": 39,
      "outputs": [
        {
          "output_type": "stream",
          "name": "stdout",
          "text": [
            "input a string: hello\n",
            "input string: hello is NOT a palindrome\n"
          ]
        }
      ]
    },
    {
      "cell_type": "markdown",
      "source": [
        "### Mutability\n",
        "\n",
        "Mutable means subject to change or which can be changed"
      ],
      "metadata": {
        "id": "J7SEQuKGM5ZW"
      }
    },
    {
      "cell_type": "code",
      "source": [
        "name = \"funny\"\n",
        "\n",
        "# Replace f with s?\n",
        "\n",
        "name[0] = \"s\" # immutablility  # String"
      ],
      "metadata": {
        "colab": {
          "base_uri": "https://localhost:8080/",
          "height": 176
        },
        "id": "j81J5PHbM4CW",
        "outputId": "c343cc36-4802-4bcf-ac4f-3427c705c78f"
      },
      "execution_count": 43,
      "outputs": [
        {
          "output_type": "error",
          "ename": "TypeError",
          "evalue": "'str' object does not support item assignment",
          "traceback": [
            "\u001b[0;31m---------------------------------------------------------------------------\u001b[0m",
            "\u001b[0;31mTypeError\u001b[0m                                 Traceback (most recent call last)",
            "\u001b[0;32m<ipython-input-43-dce106df98c2>\u001b[0m in \u001b[0;36m<cell line: 5>\u001b[0;34m()\u001b[0m\n\u001b[1;32m      3\u001b[0m \u001b[0;31m# Replace f with s?\u001b[0m\u001b[0;34m\u001b[0m\u001b[0;34m\u001b[0m\u001b[0m\n\u001b[1;32m      4\u001b[0m \u001b[0;34m\u001b[0m\u001b[0m\n\u001b[0;32m----> 5\u001b[0;31m \u001b[0mname\u001b[0m\u001b[0;34m[\u001b[0m\u001b[0;36m0\u001b[0m\u001b[0;34m]\u001b[0m \u001b[0;34m=\u001b[0m \u001b[0;34m\"s\"\u001b[0m \u001b[0;31m# immutablility  # String\u001b[0m\u001b[0;34m\u001b[0m\u001b[0;34m\u001b[0m\u001b[0m\n\u001b[0m",
            "\u001b[0;31mTypeError\u001b[0m: 'str' object does not support item assignment"
          ]
        }
      ]
    },
    {
      "cell_type": "code",
      "source": [
        "\"s\" + name[1:]"
      ],
      "metadata": {
        "colab": {
          "base_uri": "https://localhost:8080/",
          "height": 35
        },
        "id": "4iwn8l4VNGW2",
        "outputId": "7b6ef37d-da3b-4869-a322-bc3c7a88e3cd"
      },
      "execution_count": 45,
      "outputs": [
        {
          "output_type": "execute_result",
          "data": {
            "text/plain": [
              "'sunny'"
            ],
            "application/vnd.google.colaboratory.intrinsic+json": {
              "type": "string"
            }
          },
          "metadata": {},
          "execution_count": 45
        }
      ]
    },
    {
      "cell_type": "code",
      "source": [
        "name"
      ],
      "metadata": {
        "colab": {
          "base_uri": "https://localhost:8080/",
          "height": 35
        },
        "id": "tC8jsAQCNnAX",
        "outputId": "5a230a99-a5a6-4be6-adac-09029cf0052f"
      },
      "execution_count": 46,
      "outputs": [
        {
          "output_type": "execute_result",
          "data": {
            "text/plain": [
              "'funny'"
            ],
            "application/vnd.google.colaboratory.intrinsic+json": {
              "type": "string"
            }
          },
          "metadata": {},
          "execution_count": 46
        }
      ]
    },
    {
      "cell_type": "code",
      "source": [
        "name = \"f\" + name[1:]\n",
        "\n",
        "name"
      ],
      "metadata": {
        "colab": {
          "base_uri": "https://localhost:8080/",
          "height": 35
        },
        "id": "caaAkMW3NuJO",
        "outputId": "e9e81b64-f2d6-469a-e054-d0bdd079f34f"
      },
      "execution_count": 47,
      "outputs": [
        {
          "output_type": "execute_result",
          "data": {
            "text/plain": [
              "'funny'"
            ],
            "application/vnd.google.colaboratory.intrinsic+json": {
              "type": "string"
            }
          },
          "metadata": {},
          "execution_count": 47
        }
      ]
    },
    {
      "cell_type": "code",
      "source": [
        "name = name.replace(\"y\", \"YYY\")\n",
        "name"
      ],
      "metadata": {
        "colab": {
          "base_uri": "https://localhost:8080/",
          "height": 35
        },
        "id": "7WOvVOEKNzf_",
        "outputId": "7c837682-a3d4-435a-820b-8d249e20becf"
      },
      "execution_count": 48,
      "outputs": [
        {
          "output_type": "execute_result",
          "data": {
            "text/plain": [
              "'funnYYY'"
            ],
            "application/vnd.google.colaboratory.intrinsic+json": {
              "type": "string"
            }
          },
          "metadata": {},
          "execution_count": 48
        }
      ]
    },
    {
      "cell_type": "code",
      "source": [
        "name"
      ],
      "metadata": {
        "colab": {
          "base_uri": "https://localhost:8080/",
          "height": 35
        },
        "id": "9gUFafJCN7y0",
        "outputId": "502983ad-dde7-4593-911a-4dcaa4039255"
      },
      "execution_count": 49,
      "outputs": [
        {
          "output_type": "execute_result",
          "data": {
            "text/plain": [
              "'funnYYY'"
            ],
            "application/vnd.google.colaboratory.intrinsic+json": {
              "type": "string"
            }
          },
          "metadata": {},
          "execution_count": 49
        }
      ]
    },
    {
      "cell_type": "code",
      "source": [
        "name = \"Lucky Lakshman\"\n",
        "\n",
        "name = name.replace(\"Lucky\", \"LUCKY\")"
      ],
      "metadata": {
        "id": "cBwbZKccN9yO"
      },
      "execution_count": 50,
      "outputs": []
    },
    {
      "cell_type": "code",
      "source": [
        "name\n"
      ],
      "metadata": {
        "colab": {
          "base_uri": "https://localhost:8080/",
          "height": 35
        },
        "id": "CnjeJ71iOSFl",
        "outputId": "7e6e8022-9b9e-4c3f-b576-f6cbc4cbbf5e"
      },
      "execution_count": 51,
      "outputs": [
        {
          "output_type": "execute_result",
          "data": {
            "text/plain": [
              "'LUCKY Lakshman'"
            ],
            "application/vnd.google.colaboratory.intrinsic+json": {
              "type": "string"
            }
          },
          "metadata": {},
          "execution_count": 51
        }
      ]
    },
    {
      "cell_type": "code",
      "source": [
        "name = \"Lucky Lakshman\"\n",
        "\n",
        "name = name.replace(\"n\", \"N\")\n",
        "name"
      ],
      "metadata": {
        "colab": {
          "base_uri": "https://localhost:8080/",
          "height": 35
        },
        "id": "9vyyNgRaOV7F",
        "outputId": "5d47ae9b-b06f-4320-9895-1c44213fa9ff"
      },
      "execution_count": 53,
      "outputs": [
        {
          "output_type": "execute_result",
          "data": {
            "text/plain": [
              "'Lucky LakshmaN'"
            ],
            "application/vnd.google.colaboratory.intrinsic+json": {
              "type": "string"
            }
          },
          "metadata": {},
          "execution_count": 53
        }
      ]
    },
    {
      "cell_type": "markdown",
      "source": [
        "https://docs.python.org/3/library/string.html"
      ],
      "metadata": {
        "id": "yeweX7wsO7TO"
      }
    },
    {
      "cell_type": "code",
      "source": [
        "name = \"Lucky Lakshman\"\n",
        "\n",
        "name = name.replace(\" \", \"_\")\n",
        "name"
      ],
      "metadata": {
        "colab": {
          "base_uri": "https://localhost:8080/",
          "height": 35
        },
        "id": "TZnD7VPzOgON",
        "outputId": "f73e0d98-4352-4065-ca6b-d84713fe7541"
      },
      "execution_count": 54,
      "outputs": [
        {
          "output_type": "execute_result",
          "data": {
            "text/plain": [
              "'Lucky_Lakshman'"
            ],
            "application/vnd.google.colaboratory.intrinsic+json": {
              "type": "string"
            }
          },
          "metadata": {},
          "execution_count": 54
        }
      ]
    },
    {
      "cell_type": "markdown",
      "source": [
        "### length of the string"
      ],
      "metadata": {
        "id": "aSVGRTQXPWNk"
      }
    },
    {
      "cell_type": "code",
      "source": [
        "len(name)"
      ],
      "metadata": {
        "colab": {
          "base_uri": "https://localhost:8080/"
        },
        "id": "MICoN_a3PB_E",
        "outputId": "feb32e95-5afe-4b8e-999c-9079c9166d15"
      },
      "execution_count": 55,
      "outputs": [
        {
          "output_type": "execute_result",
          "data": {
            "text/plain": [
              "14"
            ]
          },
          "metadata": {},
          "execution_count": 55
        }
      ]
    },
    {
      "cell_type": "code",
      "source": [
        "len(\"lUCKY\")"
      ],
      "metadata": {
        "colab": {
          "base_uri": "https://localhost:8080/"
        },
        "id": "QkXVxC3LPcIk",
        "outputId": "be73c412-d6c0-4a69-9c50-a3192daea01c"
      },
      "execution_count": 56,
      "outputs": [
        {
          "output_type": "execute_result",
          "data": {
            "text/plain": [
              "5"
            ]
          },
          "metadata": {},
          "execution_count": 56
        }
      ]
    },
    {
      "cell_type": "code",
      "source": [
        "len(\"lUCKY   \")\n"
      ],
      "metadata": {
        "colab": {
          "base_uri": "https://localhost:8080/"
        },
        "id": "u9lXtCpnPfsk",
        "outputId": "4a53fd03-285f-4f0f-bb62-279a20309d93"
      },
      "execution_count": 57,
      "outputs": [
        {
          "output_type": "execute_result",
          "data": {
            "text/plain": [
              "8"
            ]
          },
          "metadata": {},
          "execution_count": 57
        }
      ]
    },
    {
      "cell_type": "code",
      "source": [
        "len(\"LUCKY   \"  )"
      ],
      "metadata": {
        "colab": {
          "base_uri": "https://localhost:8080/"
        },
        "id": "sKSE966FPlis",
        "outputId": "194cd709-ab78-4ad2-c6c2-12d666879caa"
      },
      "execution_count": 58,
      "outputs": [
        {
          "output_type": "execute_result",
          "data": {
            "text/plain": [
              "8"
            ]
          },
          "metadata": {},
          "execution_count": 58
        }
      ]
    },
    {
      "cell_type": "code",
      "source": [
        "name = \" LUCKY   \"\n",
        "\n",
        "name = name.replace(\" \", \"\")\n",
        "len(name)"
      ],
      "metadata": {
        "colab": {
          "base_uri": "https://localhost:8080/"
        },
        "id": "ZqA84b5VPw7s",
        "outputId": "f787fe4a-c97a-47a4-b850-176fce74d9be"
      },
      "execution_count": 59,
      "outputs": [
        {
          "output_type": "execute_result",
          "data": {
            "text/plain": [
              "5"
            ]
          },
          "metadata": {},
          "execution_count": 59
        }
      ]
    },
    {
      "cell_type": "markdown",
      "source": [
        "1. String indexing\n",
        "2. String slicing\n",
        "3. String skipping\n",
        "4. String reversal\n",
        "5. String replace method\n",
        "6. length of the string\n",
        "7. String is immutable because we cannot directly assign any value using indexing\n"
      ],
      "metadata": {
        "id": "FLBNI3VTS68q"
      }
    },
    {
      "cell_type": "code",
      "source": [
        "name = \"Lucky Lakshman\"\n",
        "name[4]"
      ],
      "metadata": {
        "colab": {
          "base_uri": "https://localhost:8080/",
          "height": 35
        },
        "id": "_SVKQnwQP9Yr",
        "outputId": "86f5de9d-5f33-4038-c80d-7c44ab9b3192"
      },
      "execution_count": 60,
      "outputs": [
        {
          "output_type": "execute_result",
          "data": {
            "text/plain": [
              "'y'"
            ],
            "application/vnd.google.colaboratory.intrinsic+json": {
              "type": "string"
            }
          },
          "metadata": {},
          "execution_count": 60
        }
      ]
    },
    {
      "cell_type": "code",
      "source": [
        "name = \"Lucky Lakshman\"\n",
        "name[6:13]"
      ],
      "metadata": {
        "colab": {
          "base_uri": "https://localhost:8080/",
          "height": 35
        },
        "id": "jjZvMYXKTT3A",
        "outputId": "a708161d-1136-48aa-9364-ce5810217f21"
      },
      "execution_count": 61,
      "outputs": [
        {
          "output_type": "execute_result",
          "data": {
            "text/plain": [
              "'Lakshma'"
            ],
            "application/vnd.google.colaboratory.intrinsic+json": {
              "type": "string"
            }
          },
          "metadata": {},
          "execution_count": 61
        }
      ]
    },
    {
      "cell_type": "code",
      "source": [
        "name = \"Lucky Lakshman\"\n",
        "name[::3]"
      ],
      "metadata": {
        "colab": {
          "base_uri": "https://localhost:8080/",
          "height": 35
        },
        "id": "1Ivh_lvRTZKB",
        "outputId": "996c99ff-1613-4691-d30f-8533215b251d"
      },
      "execution_count": 62,
      "outputs": [
        {
          "output_type": "execute_result",
          "data": {
            "text/plain": [
              "'LkLsa'"
            ],
            "application/vnd.google.colaboratory.intrinsic+json": {
              "type": "string"
            }
          },
          "metadata": {},
          "execution_count": 62
        }
      ]
    },
    {
      "cell_type": "code",
      "source": [
        "name = \"Lucky Lakshman\"\n",
        "name[::-1]"
      ],
      "metadata": {
        "colab": {
          "base_uri": "https://localhost:8080/",
          "height": 35
        },
        "id": "aPLWtTZLTiGy",
        "outputId": "0d7569c8-bce4-4c79-c5e1-48580f2578d3"
      },
      "execution_count": 63,
      "outputs": [
        {
          "output_type": "execute_result",
          "data": {
            "text/plain": [
              "'namhskaL ykcuL'"
            ],
            "application/vnd.google.colaboratory.intrinsic+json": {
              "type": "string"
            }
          },
          "metadata": {},
          "execution_count": 63
        }
      ]
    },
    {
      "cell_type": "code",
      "source": [
        "name.replace(\" \", \"=\")"
      ],
      "metadata": {
        "colab": {
          "base_uri": "https://localhost:8080/",
          "height": 35
        },
        "id": "XjGCoP4GTomy",
        "outputId": "575128aa-0052-488a-b103-7c19d081c815"
      },
      "execution_count": 64,
      "outputs": [
        {
          "output_type": "execute_result",
          "data": {
            "text/plain": [
              "'Lucky=Lakshman'"
            ],
            "application/vnd.google.colaboratory.intrinsic+json": {
              "type": "string"
            }
          },
          "metadata": {},
          "execution_count": 64
        }
      ]
    },
    {
      "cell_type": "code",
      "source": [
        "name = \"Lucky Lakshman\"\n",
        "len(name)"
      ],
      "metadata": {
        "colab": {
          "base_uri": "https://localhost:8080/"
        },
        "id": "M6XklcwVTvZo",
        "outputId": "7cbc8ac7-fc64-47ce-9cb2-b87ad7bcd20d"
      },
      "execution_count": 65,
      "outputs": [
        {
          "output_type": "execute_result",
          "data": {
            "text/plain": [
              "14"
            ]
          },
          "metadata": {},
          "execution_count": 65
        }
      ]
    },
    {
      "cell_type": "code",
      "source": [
        "name[0] = \"L\" # This is not allowed"
      ],
      "metadata": {
        "colab": {
          "base_uri": "https://localhost:8080/",
          "height": 141
        },
        "id": "dFNc2WSrT174",
        "outputId": "57c898e6-49a9-417a-8df0-145d9bc55919"
      },
      "execution_count": 66,
      "outputs": [
        {
          "output_type": "error",
          "ename": "TypeError",
          "evalue": "'str' object does not support item assignment",
          "traceback": [
            "\u001b[0;31m---------------------------------------------------------------------------\u001b[0m",
            "\u001b[0;31mTypeError\u001b[0m                                 Traceback (most recent call last)",
            "\u001b[0;32m<ipython-input-66-4d634ca1716b>\u001b[0m in \u001b[0;36m<cell line: 1>\u001b[0;34m()\u001b[0m\n\u001b[0;32m----> 1\u001b[0;31m \u001b[0mname\u001b[0m\u001b[0;34m[\u001b[0m\u001b[0;36m0\u001b[0m\u001b[0;34m]\u001b[0m \u001b[0;34m=\u001b[0m \u001b[0;34m\"L\"\u001b[0m \u001b[0;31m# This is not allowed\u001b[0m\u001b[0;34m\u001b[0m\u001b[0;34m\u001b[0m\u001b[0m\n\u001b[0m",
            "\u001b[0;31mTypeError\u001b[0m: 'str' object does not support item assignment"
          ]
        }
      ]
    },
    {
      "cell_type": "code",
      "source": [
        "name[::-2]"
      ],
      "metadata": {
        "colab": {
          "base_uri": "https://localhost:8080/",
          "height": 35
        },
        "id": "jyXXOvB9UAqh",
        "outputId": "f951a57a-9aa8-4c52-b5c1-fed538bcaa2a"
      },
      "execution_count": 67,
      "outputs": [
        {
          "output_type": "execute_result",
          "data": {
            "text/plain": [
              "'nmsa ku'"
            ],
            "application/vnd.google.colaboratory.intrinsic+json": {
              "type": "string"
            }
          },
          "metadata": {},
          "execution_count": 67
        }
      ]
    },
    {
      "cell_type": "code",
      "source": [
        "name[4:19:3]\n"
      ],
      "metadata": {
        "colab": {
          "base_uri": "https://localhost:8080/",
          "height": 35
        },
        "id": "cC5Pwq6kUHcg",
        "outputId": "f56cbcbc-5229-41e8-bd12-ba4e62c34b45"
      },
      "execution_count": 68,
      "outputs": [
        {
          "output_type": "execute_result",
          "data": {
            "text/plain": [
              "'yahn'"
            ],
            "application/vnd.google.colaboratory.intrinsic+json": {
              "type": "string"
            }
          },
          "metadata": {},
          "execution_count": 68
        }
      ]
    },
    {
      "cell_type": "code",
      "source": [
        "name[-5:-5:]"
      ],
      "metadata": {
        "colab": {
          "base_uri": "https://localhost:8080/",
          "height": 35
        },
        "id": "gvh79qZEULCg",
        "outputId": "a3e34c18-73ed-4746-a68a-edb432be3cd4"
      },
      "execution_count": 69,
      "outputs": [
        {
          "output_type": "execute_result",
          "data": {
            "text/plain": [
              "''"
            ],
            "application/vnd.google.colaboratory.intrinsic+json": {
              "type": "string"
            }
          },
          "metadata": {},
          "execution_count": 69
        }
      ]
    },
    {
      "cell_type": "markdown",
      "source": [
        "### Count specific characters in a string"
      ],
      "metadata": {
        "id": "AdfeRu-hUsMy"
      }
    },
    {
      "cell_type": "code",
      "source": [
        "name = \"Lucky Lakshman\"\n",
        "\n",
        "name.count(\"L\")"
      ],
      "metadata": {
        "colab": {
          "base_uri": "https://localhost:8080/"
        },
        "id": "UPK2T-fdUT6Y",
        "outputId": "f1537938-3bd5-4b5d-931b-0b1673898cfb"
      },
      "execution_count": 71,
      "outputs": [
        {
          "output_type": "execute_result",
          "data": {
            "text/plain": [
              "2"
            ]
          },
          "metadata": {},
          "execution_count": 71
        }
      ]
    },
    {
      "cell_type": "markdown",
      "source": [
        "### Split operation"
      ],
      "metadata": {
        "id": "Y4KybfVLVCAi"
      }
    },
    {
      "cell_type": "code",
      "source": [
        "name = \"Ulli Lucky Lakshman\"\n",
        "name.split(\" \")"
      ],
      "metadata": {
        "colab": {
          "base_uri": "https://localhost:8080/"
        },
        "id": "RlWGFZZfU0k5",
        "outputId": "da32974b-dd84-41bf-f842-bd192d51ccf7"
      },
      "execution_count": 74,
      "outputs": [
        {
          "output_type": "execute_result",
          "data": {
            "text/plain": [
              "['Ulli', 'Lucky', 'Lakshman']"
            ]
          },
          "metadata": {},
          "execution_count": 74
        }
      ]
    },
    {
      "cell_type": "code",
      "source": [
        "first_name, middle_name, sir_name = name.split(\" \")\n",
        "\n",
        "print(f\"\"\"\n",
        "First name: {first_name}\n",
        "Middle name: {middle_name}\n",
        "Sir name: {sir_name}\n",
        "\"\"\")"
      ],
      "metadata": {
        "colab": {
          "base_uri": "https://localhost:8080/"
        },
        "id": "SF6JFwrqVGm_",
        "outputId": "b4fb6223-4884-4f95-db7d-66784c645fd9"
      },
      "execution_count": 75,
      "outputs": [
        {
          "output_type": "stream",
          "name": "stdout",
          "text": [
            "\n",
            "First name: Ulli\n",
            "Middle name: Lucky\n",
            "Sir name: Lakshman\n",
            "\n"
          ]
        }
      ]
    },
    {
      "cell_type": "code",
      "source": [
        "# index 0123456789                              012345678\n",
        "data = input(\"enter date of birth in the format DD/MMM/YYYY: \")\n",
        "\n",
        "# today's date, Month and year\n",
        "\n",
        "date, month, year = data.split(\"/\")\n",
        "\n",
        "print(f\"The user was born in the month of {month} in the year: {year} on date: {date}\")"
      ],
      "metadata": {
        "colab": {
          "base_uri": "https://localhost:8080/"
        },
        "id": "QlbFvweoVd14",
        "outputId": "d57128a7-ab01-47f6-8f96-3e40e5110d6c"
      },
      "execution_count": 76,
      "outputs": [
        {
          "output_type": "stream",
          "name": "stdout",
          "text": [
            "enter date of birth in the format DD/MMM/YYYY: 24/08/2000\n",
            "The user was born in the month of 08 in the year: 2000 on date: 24\n"
          ]
        }
      ]
    },
    {
      "cell_type": "code",
      "source": [
        "data = input(\"enter date of birth in the format DD/MMM/YYYY: \")\n",
        "data.split(\"/\")"
      ],
      "metadata": {
        "colab": {
          "base_uri": "https://localhost:8080/"
        },
        "id": "kiAzjDwuVvXP",
        "outputId": "4b6cbd5c-733d-44a6-f986-365752b22159"
      },
      "execution_count": 77,
      "outputs": [
        {
          "name": "stdout",
          "output_type": "stream",
          "text": [
            "enter date of birth in the format DD/MMM/YYYY: 24/08/2000\n"
          ]
        },
        {
          "output_type": "execute_result",
          "data": {
            "text/plain": [
              "['24', '08', '2000']"
            ]
          },
          "metadata": {},
          "execution_count": 77
        }
      ]
    },
    {
      "cell_type": "code",
      "source": [
        "name = \"Lucky Lakshman\"\n",
        "\n",
        "name.split(\"_\")"
      ],
      "metadata": {
        "colab": {
          "base_uri": "https://localhost:8080/"
        },
        "id": "eMZE9JcQV0yI",
        "outputId": "33ae6e8a-bfb6-4386-ef45-f1bc946ed07b"
      },
      "execution_count": 78,
      "outputs": [
        {
          "output_type": "execute_result",
          "data": {
            "text/plain": [
              "['Lucky Lakshman']"
            ]
          },
          "metadata": {},
          "execution_count": 78
        }
      ]
    },
    {
      "cell_type": "code",
      "source": [
        "name.split(\"n\")"
      ],
      "metadata": {
        "colab": {
          "base_uri": "https://localhost:8080/"
        },
        "id": "pZNw1Q-yWQJP",
        "outputId": "9401b78d-00e0-4bf7-f25c-6eed6d2fe4e8"
      },
      "execution_count": 79,
      "outputs": [
        {
          "output_type": "execute_result",
          "data": {
            "text/plain": [
              "['Lucky Lakshma', '']"
            ]
          },
          "metadata": {},
          "execution_count": 79
        }
      ]
    },
    {
      "cell_type": "code",
      "source": [
        "name.split(\".\")"
      ],
      "metadata": {
        "colab": {
          "base_uri": "https://localhost:8080/"
        },
        "id": "sfn-VrhGWUYv",
        "outputId": "8c0864fd-da7a-4e24-bbe2-23996a3c7b95"
      },
      "execution_count": 80,
      "outputs": [
        {
          "output_type": "execute_result",
          "data": {
            "text/plain": [
              "['Lucky Lakshman']"
            ]
          },
          "metadata": {},
          "execution_count": 80
        }
      ]
    },
    {
      "cell_type": "code",
      "source": [
        "date = input(\"Enter the date in DD/MM/YYYY: \")\n",
        "date.split(\"/\")"
      ],
      "metadata": {
        "colab": {
          "base_uri": "https://localhost:8080/"
        },
        "id": "VHNMbv3ZWb3m",
        "outputId": "678e9ddb-e5d2-4961-9782-704cc7413e9e"
      },
      "execution_count": 81,
      "outputs": [
        {
          "name": "stdout",
          "output_type": "stream",
          "text": [
            "Enter the date in DD/MM/YYYY: 02/04/2024\n"
          ]
        },
        {
          "output_type": "execute_result",
          "data": {
            "text/plain": [
              "['02', '04', '2024']"
            ]
          },
          "metadata": {},
          "execution_count": 81
        }
      ]
    },
    {
      "cell_type": "code",
      "source": [
        "A,B,C = date.split(\"/\")\n",
        "\n",
        "print(A, B, C)"
      ],
      "metadata": {
        "colab": {
          "base_uri": "https://localhost:8080/"
        },
        "id": "Scd5T62pWrHP",
        "outputId": "7a5c542c-bc13-4a02-c1e6-58206f634361"
      },
      "execution_count": 82,
      "outputs": [
        {
          "output_type": "stream",
          "name": "stdout",
          "text": [
            "02 04 2024\n"
          ]
        }
      ]
    },
    {
      "cell_type": "code",
      "source": [
        "A = date.split(\"/\")\n",
        "A"
      ],
      "metadata": {
        "colab": {
          "base_uri": "https://localhost:8080/"
        },
        "id": "16EKHwZOW-Ru",
        "outputId": "7a3b784c-f216-4a7f-b7aa-0d622864acd1"
      },
      "execution_count": 83,
      "outputs": [
        {
          "output_type": "execute_result",
          "data": {
            "text/plain": [
              "['02', '04', '2024']"
            ]
          },
          "metadata": {},
          "execution_count": 83
        }
      ]
    },
    {
      "cell_type": "code",
      "source": [
        "A[0]"
      ],
      "metadata": {
        "colab": {
          "base_uri": "https://localhost:8080/",
          "height": 35
        },
        "id": "YgNvSM9sXEGu",
        "outputId": "d9aed3f6-ca39-4cf2-b304-706adc3a79e6"
      },
      "execution_count": 84,
      "outputs": [
        {
          "output_type": "execute_result",
          "data": {
            "text/plain": [
              "'02'"
            ],
            "application/vnd.google.colaboratory.intrinsic+json": {
              "type": "string"
            }
          },
          "metadata": {},
          "execution_count": 84
        }
      ]
    },
    {
      "cell_type": "code",
      "source": [
        "A[1]"
      ],
      "metadata": {
        "colab": {
          "base_uri": "https://localhost:8080/",
          "height": 35
        },
        "id": "URmX6lk3XIH_",
        "outputId": "0834c2a0-9b13-41f3-d5c7-67b3569fb911"
      },
      "execution_count": 85,
      "outputs": [
        {
          "output_type": "execute_result",
          "data": {
            "text/plain": [
              "'04'"
            ],
            "application/vnd.google.colaboratory.intrinsic+json": {
              "type": "string"
            }
          },
          "metadata": {},
          "execution_count": 85
        }
      ]
    },
    {
      "cell_type": "code",
      "source": [
        "len(A)"
      ],
      "metadata": {
        "colab": {
          "base_uri": "https://localhost:8080/"
        },
        "id": "_UHjf_k4XLsv",
        "outputId": "4fd74bdf-27e3-4dcf-fd86-9f091709584f"
      },
      "execution_count": 86,
      "outputs": [
        {
          "output_type": "execute_result",
          "data": {
            "text/plain": [
              "3"
            ]
          },
          "metadata": {},
          "execution_count": 86
        }
      ]
    },
    {
      "cell_type": "markdown",
      "source": [
        "### lower upper, title case etc"
      ],
      "metadata": {
        "id": "K3xAi9UjXeWg"
      }
    },
    {
      "cell_type": "code",
      "source": [
        "name = \"Lucky Lakshman\"\n",
        "\n",
        "name.lower()"
      ],
      "metadata": {
        "colab": {
          "base_uri": "https://localhost:8080/",
          "height": 35
        },
        "id": "h3s8--9yXVjW",
        "outputId": "b5091d7c-fea6-4ef5-f555-d086dd9a7849"
      },
      "execution_count": 87,
      "outputs": [
        {
          "output_type": "execute_result",
          "data": {
            "text/plain": [
              "'lucky lakshman'"
            ],
            "application/vnd.google.colaboratory.intrinsic+json": {
              "type": "string"
            }
          },
          "metadata": {},
          "execution_count": 87
        }
      ]
    },
    {
      "cell_type": "code",
      "source": [
        "name.upper()"
      ],
      "metadata": {
        "colab": {
          "base_uri": "https://localhost:8080/",
          "height": 35
        },
        "id": "wjBwWD4lXoc1",
        "outputId": "f2258289-6253-4f60-8691-18bdd57f7978"
      },
      "execution_count": 88,
      "outputs": [
        {
          "output_type": "execute_result",
          "data": {
            "text/plain": [
              "'LUCKY LAKSHMAN'"
            ],
            "application/vnd.google.colaboratory.intrinsic+json": {
              "type": "string"
            }
          },
          "metadata": {},
          "execution_count": 88
        }
      ]
    },
    {
      "cell_type": "code",
      "source": [
        "name = input(\"Enter your name: \")\n",
        "\n",
        "print(f\"user input: {name}\")\n",
        "print(f\"name in upper case: {name.upper()}\")\n",
        "print(f\"name in lower case: {name.lower()}\")\n",
        "print(f\"name in title case: {name.title()}\") #\n",
        "print(f\"name in capitalize case: {name.capitalize()}\")\n",
        "print(f\"name in swapcase case: {name.swapcase()}\")"
      ],
      "metadata": {
        "colab": {
          "base_uri": "https://localhost:8080/"
        },
        "id": "dkynwUy4XrId",
        "outputId": "d0388755-6dfb-4c60-a573-66eda83c102f"
      },
      "execution_count": 89,
      "outputs": [
        {
          "output_type": "stream",
          "name": "stdout",
          "text": [
            "Enter your name: Lakshman\n",
            "user input: Lakshman\n",
            "name in upper case: LAKSHMAN\n",
            "name in lower case: lakshman\n",
            "name in title case: Lakshman\n",
            "name in capitalize case: Lakshman\n",
            "name in swapcase case: lAKSHMAN\n"
          ]
        }
      ]
    },
    {
      "cell_type": "code",
      "source": [
        "name = \"Today is the best DAY of my Life.\"\n",
        "\n",
        "print(f\"user input: {name}\")\n",
        "print(f\"name in upper case: {name.upper()}\")\n",
        "print(f\"name in lower case: {name.lower()}\")\n",
        "print(f\"name in title case: {name.title()}\") #\n",
        "print(f\"name in capitalize case: {name.capitalize()}\")\n",
        "print(f\"name in swapcase case: {name.swapcase()}\")"
      ],
      "metadata": {
        "colab": {
          "base_uri": "https://localhost:8080/"
        },
        "id": "U9n9ZODZYLge",
        "outputId": "428e6291-0517-4278-c367-87afddb08b7b"
      },
      "execution_count": 90,
      "outputs": [
        {
          "output_type": "stream",
          "name": "stdout",
          "text": [
            "user input: Today is the best DAY of my Life.\n",
            "name in upper case: TODAY IS THE BEST DAY OF MY LIFE.\n",
            "name in lower case: today is the best day of my life.\n",
            "name in title case: Today Is The Best Day Of My Life.\n",
            "name in capitalize case: Today is the best day of my life.\n",
            "name in swapcase case: tODAY IS THE BEST day OF MY lIFE.\n"
          ]
        }
      ]
    },
    {
      "cell_type": "code",
      "source": [
        "name = \"Lucky Lakshman\"\n",
        "\n",
        "\"*\".join(name)"
      ],
      "metadata": {
        "colab": {
          "base_uri": "https://localhost:8080/",
          "height": 35
        },
        "id": "ifLf7TFiZuYl",
        "outputId": "ce7d1a2d-f7d8-49d0-f7a4-777e43501a01"
      },
      "execution_count": 92,
      "outputs": [
        {
          "output_type": "execute_result",
          "data": {
            "text/plain": [
              "'L*u*c*k*y* *L*a*k*s*h*m*a*n'"
            ],
            "application/vnd.google.colaboratory.intrinsic+json": {
              "type": "string"
            }
          },
          "metadata": {},
          "execution_count": 92
        }
      ]
    },
    {
      "cell_type": "code",
      "source": [
        "name = \"Lucky Lakshman\"\n",
        "\n",
        "\"_\".join(name)"
      ],
      "metadata": {
        "colab": {
          "base_uri": "https://localhost:8080/",
          "height": 35
        },
        "id": "SPTikYP-Z86M",
        "outputId": "29ea4509-f464-4820-edbf-d9a570d7d366"
      },
      "execution_count": 93,
      "outputs": [
        {
          "output_type": "execute_result",
          "data": {
            "text/plain": [
              "'L_u_c_k_y_ _L_a_k_s_h_m_a_n'"
            ],
            "application/vnd.google.colaboratory.intrinsic+json": {
              "type": "string"
            }
          },
          "metadata": {},
          "execution_count": 93
        }
      ]
    },
    {
      "cell_type": "code",
      "source": [
        "name = \"Lucky Lakshman\"\n",
        "\n",
        "\"|\".join(name)"
      ],
      "metadata": {
        "colab": {
          "base_uri": "https://localhost:8080/",
          "height": 35
        },
        "id": "bhCK5afWaA7T",
        "outputId": "f4d66b8f-6748-4bd6-ee85-a41a7c4cb4cf"
      },
      "execution_count": 94,
      "outputs": [
        {
          "output_type": "execute_result",
          "data": {
            "text/plain": [
              "'L|u|c|k|y| |L|a|k|s|h|m|a|n'"
            ],
            "application/vnd.google.colaboratory.intrinsic+json": {
              "type": "string"
            }
          },
          "metadata": {},
          "execution_count": 94
        }
      ]
    },
    {
      "cell_type": "code",
      "source": [
        "name = \"Lucky Lakshman\"\n",
        "\n",
        "\" \".join(name)"
      ],
      "metadata": {
        "colab": {
          "base_uri": "https://localhost:8080/",
          "height": 35
        },
        "id": "pWuPYKohaa_G",
        "outputId": "b9d3e104-da94-418d-cf2b-3952beef3065"
      },
      "execution_count": 95,
      "outputs": [
        {
          "output_type": "execute_result",
          "data": {
            "text/plain": [
              "'L u c k y   L a k s h m a n'"
            ],
            "application/vnd.google.colaboratory.intrinsic+json": {
              "type": "string"
            }
          },
          "metadata": {},
          "execution_count": 95
        }
      ]
    },
    {
      "cell_type": "code",
      "source": [
        "name = \"Lucky Lakshman\"\n",
        "\n",
        "name.replace(\" \", \"|\")"
      ],
      "metadata": {
        "colab": {
          "base_uri": "https://localhost:8080/",
          "height": 35
        },
        "id": "4OEBVoegaj-v",
        "outputId": "003782f3-bb52-4f18-9ca3-c0303a49a4b4"
      },
      "execution_count": 96,
      "outputs": [
        {
          "output_type": "execute_result",
          "data": {
            "text/plain": [
              "'Lucky|Lakshman'"
            ],
            "application/vnd.google.colaboratory.intrinsic+json": {
              "type": "string"
            }
          },
          "metadata": {},
          "execution_count": 96
        }
      ]
    },
    {
      "cell_type": "code",
      "source": [
        "\"\".join(reversed(name))"
      ],
      "metadata": {
        "colab": {
          "base_uri": "https://localhost:8080/",
          "height": 35
        },
        "id": "QGLLSzggaIBF",
        "outputId": "f7279c18-c2aa-4ddb-aee5-6f2cec3ec5f1"
      },
      "execution_count": 97,
      "outputs": [
        {
          "output_type": "execute_result",
          "data": {
            "text/plain": [
              "'namhskaL ykcuL'"
            ],
            "application/vnd.google.colaboratory.intrinsic+json": {
              "type": "string"
            }
          },
          "metadata": {},
          "execution_count": 97
        }
      ]
    },
    {
      "cell_type": "code",
      "source": [
        "name[::-1]"
      ],
      "metadata": {
        "colab": {
          "base_uri": "https://localhost:8080/",
          "height": 35
        },
        "id": "vMokNHERaM3c",
        "outputId": "6a7d08d3-4fae-4e72-f637-46ef9ba68c00"
      },
      "execution_count": 98,
      "outputs": [
        {
          "output_type": "execute_result",
          "data": {
            "text/plain": [
              "'namhskaL ykcuL'"
            ],
            "application/vnd.google.colaboratory.intrinsic+json": {
              "type": "string"
            }
          },
          "metadata": {},
          "execution_count": 98
        }
      ]
    },
    {
      "cell_type": "markdown",
      "source": [
        "### remove extra spaces front and back of the string"
      ],
      "metadata": {
        "id": "ZMAa2C47a2KH"
      }
    },
    {
      "cell_type": "code",
      "source": [
        "name = \"  Lucky   \"\n",
        "\n",
        "name.strip(\" \")"
      ],
      "metadata": {
        "colab": {
          "base_uri": "https://localhost:8080/",
          "height": 35
        },
        "id": "NCcHrL5_aT2L",
        "outputId": "0ec00a2d-9282-40f4-c289-f1e4c7ceb369"
      },
      "execution_count": 100,
      "outputs": [
        {
          "output_type": "execute_result",
          "data": {
            "text/plain": [
              "'Lucky'"
            ],
            "application/vnd.google.colaboratory.intrinsic+json": {
              "type": "string"
            }
          },
          "metadata": {},
          "execution_count": 100
        }
      ]
    },
    {
      "cell_type": "code",
      "source": [
        "name = \"  Sunny   \"\n",
        "\n",
        "name.lstrip(\" \")"
      ],
      "metadata": {
        "colab": {
          "base_uri": "https://localhost:8080/",
          "height": 36
        },
        "id": "D7K3FdO2bFis",
        "outputId": "7411facb-b56f-4422-d5da-49d7a3f9dfc8"
      },
      "execution_count": null,
      "outputs": [
        {
          "output_type": "execute_result",
          "data": {
            "text/plain": [
              "'Sunny   '"
            ],
            "application/vnd.google.colaboratory.intrinsic+json": {
              "type": "string"
            }
          },
          "metadata": {},
          "execution_count": 114
        }
      ]
    },
    {
      "cell_type": "code",
      "source": [
        "name = \"  Lucky   \"\n",
        "\n",
        "name.rstrip(\" \")"
      ],
      "metadata": {
        "colab": {
          "base_uri": "https://localhost:8080/",
          "height": 35
        },
        "id": "G9Bv3dgWbRfb",
        "outputId": "dc354de6-9316-446b-c7f6-1ae203c3e7d3"
      },
      "execution_count": 101,
      "outputs": [
        {
          "output_type": "execute_result",
          "data": {
            "text/plain": [
              "'  Lucky'"
            ],
            "application/vnd.google.colaboratory.intrinsic+json": {
              "type": "string"
            }
          },
          "metadata": {},
          "execution_count": 101
        }
      ]
    },
    {
      "cell_type": "code",
      "source": [
        "name = \"    Lucky Lakshman    \"\n",
        "\n",
        "name.strip(\" \")"
      ],
      "metadata": {
        "colab": {
          "base_uri": "https://localhost:8080/",
          "height": 35
        },
        "id": "LzyZajbsbUYE",
        "outputId": "2cf7f262-c98c-4433-9c84-8cb6fd8d6b01"
      },
      "execution_count": 102,
      "outputs": [
        {
          "output_type": "execute_result",
          "data": {
            "text/plain": [
              "'Lucky Lakshman'"
            ],
            "application/vnd.google.colaboratory.intrinsic+json": {
              "type": "string"
            }
          },
          "metadata": {},
          "execution_count": 102
        }
      ]
    },
    {
      "cell_type": "code",
      "source": [
        "name = \"==Lucky Lakshman==\"\n",
        "\n",
        "name.strip(\"=\")"
      ],
      "metadata": {
        "colab": {
          "base_uri": "https://localhost:8080/",
          "height": 35
        },
        "id": "cbVxwtScbh9a",
        "outputId": "d8e2af7c-3f96-4c4d-d5c8-15f5988251d7"
      },
      "execution_count": 103,
      "outputs": [
        {
          "output_type": "execute_result",
          "data": {
            "text/plain": [
              "'Lucky Lakshman'"
            ],
            "application/vnd.google.colaboratory.intrinsic+json": {
              "type": "string"
            }
          },
          "metadata": {},
          "execution_count": 103
        }
      ]
    },
    {
      "cell_type": "code",
      "source": [
        "name = \"    Lucky Lakshman    \"\n",
        "\n",
        "name.replace(\" \", \"\")"
      ],
      "metadata": {
        "colab": {
          "base_uri": "https://localhost:8080/",
          "height": 35
        },
        "id": "dayyF8KDbY5r",
        "outputId": "7e95fd33-7ab5-4c69-a2ad-049218f3c03a"
      },
      "execution_count": 104,
      "outputs": [
        {
          "output_type": "execute_result",
          "data": {
            "text/plain": [
              "'LuckyLakshman'"
            ],
            "application/vnd.google.colaboratory.intrinsic+json": {
              "type": "string"
            }
          },
          "metadata": {},
          "execution_count": 104
        }
      ]
    },
    {
      "cell_type": "markdown",
      "source": [
        "### Fromatting"
      ],
      "metadata": {
        "id": "Dkh-fEX9b4jd"
      }
    },
    {
      "cell_type": "code",
      "source": [
        "name = \"Lucky\"\n",
        "\n",
        "name.center(15, \"#\")"
      ],
      "metadata": {
        "colab": {
          "base_uri": "https://localhost:8080/",
          "height": 35
        },
        "id": "5nVfRD49beeT",
        "outputId": "4ab93476-0df1-479d-a909-7db12b5cc3fc"
      },
      "execution_count": 106,
      "outputs": [
        {
          "output_type": "execute_result",
          "data": {
            "text/plain": [
              "'#####Lucky#####'"
            ],
            "application/vnd.google.colaboratory.intrinsic+json": {
              "type": "string"
            }
          },
          "metadata": {},
          "execution_count": 106
        }
      ]
    },
    {
      "cell_type": "code",
      "source": [
        "name = \"Lucky\"\n",
        "\n",
        "name.center(10, \"#\")"
      ],
      "metadata": {
        "colab": {
          "base_uri": "https://localhost:8080/",
          "height": 35
        },
        "id": "PCyzTB6QcC5E",
        "outputId": "6532bd17-cf84-4317-a5e3-c7c3d7f749c0"
      },
      "execution_count": 107,
      "outputs": [
        {
          "output_type": "execute_result",
          "data": {
            "text/plain": [
              "'##Lucky###'"
            ],
            "application/vnd.google.colaboratory.intrinsic+json": {
              "type": "string"
            }
          },
          "metadata": {},
          "execution_count": 107
        }
      ]
    },
    {
      "cell_type": "code",
      "source": [
        "name = \"Lucky\"\n",
        "\n",
        "name.center(2, \"#\")"
      ],
      "metadata": {
        "colab": {
          "base_uri": "https://localhost:8080/",
          "height": 35
        },
        "id": "miAnTKjBcGpD",
        "outputId": "09a82ae6-50c8-4021-9bfe-0b23663e02e2"
      },
      "execution_count": 108,
      "outputs": [
        {
          "output_type": "execute_result",
          "data": {
            "text/plain": [
              "'Lucky'"
            ],
            "application/vnd.google.colaboratory.intrinsic+json": {
              "type": "string"
            }
          },
          "metadata": {},
          "execution_count": 108
        }
      ]
    },
    {
      "cell_type": "code",
      "source": [
        "name = \"Lakshman\"\n",
        "\n",
        "name.center(20, \"*\")"
      ],
      "metadata": {
        "colab": {
          "base_uri": "https://localhost:8080/",
          "height": 35
        },
        "id": "XdEe_f3acZeK",
        "outputId": "551a8a6a-adab-49e0-e362-711a742c5212"
      },
      "execution_count": 109,
      "outputs": [
        {
          "output_type": "execute_result",
          "data": {
            "text/plain": [
              "'******Lakshman******'"
            ],
            "application/vnd.google.colaboratory.intrinsic+json": {
              "type": "string"
            }
          },
          "metadata": {},
          "execution_count": 109
        }
      ]
    },
    {
      "cell_type": "markdown",
      "source": [
        "### Checking string cases [imp]"
      ],
      "metadata": {
        "id": "JcaikFaUcV4M"
      }
    },
    {
      "cell_type": "code",
      "source": [
        "name = \"Lucky\"\n",
        "\n",
        "name.isupper()"
      ],
      "metadata": {
        "colab": {
          "base_uri": "https://localhost:8080/"
        },
        "id": "Uve8nu7scQo7",
        "outputId": "decd79ab-d690-44fb-cebf-8d521da54a3c"
      },
      "execution_count": 110,
      "outputs": [
        {
          "output_type": "execute_result",
          "data": {
            "text/plain": [
              "False"
            ]
          },
          "metadata": {},
          "execution_count": 110
        }
      ]
    },
    {
      "cell_type": "code",
      "source": [
        "name = \"lucky\"\n",
        "\n",
        "name.isupper()"
      ],
      "metadata": {
        "colab": {
          "base_uri": "https://localhost:8080/"
        },
        "id": "uPdQJUkPc1ii",
        "outputId": "31195d1a-e839-42b8-dfff-d1495c2ee18b"
      },
      "execution_count": 111,
      "outputs": [
        {
          "output_type": "execute_result",
          "data": {
            "text/plain": [
              "False"
            ]
          },
          "metadata": {},
          "execution_count": 111
        }
      ]
    },
    {
      "cell_type": "code",
      "source": [
        "name = \"Lucky\"\n",
        "\n",
        "name.islower()"
      ],
      "metadata": {
        "colab": {
          "base_uri": "https://localhost:8080/"
        },
        "id": "ZqKdvrbDc3yK",
        "outputId": "de3e3ffd-3d0e-4b8e-a1f5-2c573434b1b4"
      },
      "execution_count": 112,
      "outputs": [
        {
          "output_type": "execute_result",
          "data": {
            "text/plain": [
              "False"
            ]
          },
          "metadata": {},
          "execution_count": 112
        }
      ]
    },
    {
      "cell_type": "code",
      "source": [
        "name = \"Lucky\"\n",
        "\n",
        "name.islower()"
      ],
      "metadata": {
        "colab": {
          "base_uri": "https://localhost:8080/"
        },
        "id": "MLZCrKeYc-h7",
        "outputId": "fde183fd-76bc-4909-fcfe-6a3400765fee"
      },
      "execution_count": 113,
      "outputs": [
        {
          "output_type": "execute_result",
          "data": {
            "text/plain": [
              "False"
            ]
          },
          "metadata": {},
          "execution_count": 113
        }
      ]
    },
    {
      "cell_type": "code",
      "source": [
        "name = \"Lucky\"\n",
        "\n",
        "name.isspace()"
      ],
      "metadata": {
        "colab": {
          "base_uri": "https://localhost:8080/"
        },
        "id": "7Ur9pEqpdAgT",
        "outputId": "2b98b26b-ecd0-4e61-a2b9-f95e03181288"
      },
      "execution_count": 114,
      "outputs": [
        {
          "output_type": "execute_result",
          "data": {
            "text/plain": [
              "False"
            ]
          },
          "metadata": {},
          "execution_count": 114
        }
      ]
    },
    {
      "cell_type": "code",
      "source": [
        "name = \"Lucky\"\n",
        "\n",
        "name.istitle()"
      ],
      "metadata": {
        "colab": {
          "base_uri": "https://localhost:8080/"
        },
        "id": "RL13bdXXdLj0",
        "outputId": "e922c02f-96ae-4b95-d59b-f2a16a8aec5f"
      },
      "execution_count": 115,
      "outputs": [
        {
          "output_type": "execute_result",
          "data": {
            "text/plain": [
              "True"
            ]
          },
          "metadata": {},
          "execution_count": 115
        }
      ]
    },
    {
      "cell_type": "code",
      "source": [
        "name = \"Lucky\"\n",
        "\n",
        "name.isspace()"
      ],
      "metadata": {
        "colab": {
          "base_uri": "https://localhost:8080/"
        },
        "id": "ODMWl0PYdDjD",
        "outputId": "e791ab9c-b23e-4c82-d95c-122c626c230b"
      },
      "execution_count": 116,
      "outputs": [
        {
          "output_type": "execute_result",
          "data": {
            "text/plain": [
              "False"
            ]
          },
          "metadata": {},
          "execution_count": 116
        }
      ]
    },
    {
      "cell_type": "code",
      "source": [
        "name = \"   \"\n",
        "\n",
        "name.isspace()"
      ],
      "metadata": {
        "colab": {
          "base_uri": "https://localhost:8080/"
        },
        "id": "Q5D5RZyhdFsJ",
        "outputId": "c1ca2051-587e-4cd0-9075-723b8eb7948b"
      },
      "execution_count": 117,
      "outputs": [
        {
          "output_type": "execute_result",
          "data": {
            "text/plain": [
              "True"
            ]
          },
          "metadata": {},
          "execution_count": 117
        }
      ]
    },
    {
      "cell_type": "code",
      "source": [
        "name = input(\"Enter your name: \")\n",
        "\n",
        "print(f\"user input: {name}\")\n",
        "\n",
        "if name.istitle():\n",
        "  print(f\"user has given correct input\")\n",
        "elif name.isspace():\n",
        "  print(f\"Wrong input please try again!!\")\n",
        "else:\n",
        "  print(f\"wrong input we need to autocorrect it\")\n",
        "  name = name.title()\n",
        "  print(f\"Correct output: {name}\")"
      ],
      "metadata": {
        "colab": {
          "base_uri": "https://localhost:8080/"
        },
        "id": "NoqcRYjZdHzB",
        "outputId": "d4bd83e6-d3a5-49de-bcaa-e29c93a600e8"
      },
      "execution_count": 118,
      "outputs": [
        {
          "output_type": "stream",
          "name": "stdout",
          "text": [
            "Enter your name: lucky\n",
            "user input: lucky\n",
            "wrong input we need to autocorrect it\n",
            "Correct output: Lucky\n"
          ]
        }
      ]
    },
    {
      "cell_type": "code",
      "source": [
        "name = input(\"Enter your name: \")\n",
        "\n",
        "print(f\"user input: {name}\")\n",
        "\n",
        "if name.istitle():\n",
        "  print(f\"user has given correct input\")\n",
        "elif name.isspace():\n",
        "  print(f\"Wrong input please try again!!\")\n",
        "else:\n",
        "  print(f\"wrong input we need to autocorrect it\")\n",
        "  name = name.title()\n",
        "  print(f\"Correct output: {name}\")"
      ],
      "metadata": {
        "colab": {
          "base_uri": "https://localhost:8080/"
        },
        "id": "V3AFbwQHdvZk",
        "outputId": "d247be9b-e13b-4a77-acd2-e0dfd4d72a77"
      },
      "execution_count": 119,
      "outputs": [
        {
          "output_type": "stream",
          "name": "stdout",
          "text": [
            "Enter your name: hello\n",
            "user input: hello\n",
            "wrong input we need to autocorrect it\n",
            "Correct output: Hello\n"
          ]
        }
      ]
    },
    {
      "cell_type": "code",
      "source": [
        "name = input(\"Enter your name: \")\n",
        "\n",
        "print(f\"user input: {name}\")\n",
        "\n",
        "if name.istitle():\n",
        "  print(f\"user has given correct input\")\n",
        "elif name.isspace():\n",
        "  print(f\"Wrong input please try again!!\")\n",
        "else:\n",
        "  print(f\"wrong input we need to autocorrect it\")\n",
        "  name = name.title()\n",
        "  print(f\"Correct output: {name}\")"
      ],
      "metadata": {
        "colab": {
          "base_uri": "https://localhost:8080/"
        },
        "id": "2vWLpeTNemBT",
        "outputId": "8f32f254-4935-41b1-e66c-b2d66d4515ec"
      },
      "execution_count": 120,
      "outputs": [
        {
          "output_type": "stream",
          "name": "stdout",
          "text": [
            "Enter your name: lucky\n",
            "user input: lucky\n",
            "wrong input we need to autocorrect it\n",
            "Correct output: Lucky\n"
          ]
        }
      ]
    },
    {
      "cell_type": "code",
      "source": [
        "name = input(\"Enter your name: \")\n",
        "\n",
        "print(f\"user input: {name}\")\n",
        "\n",
        "if name.istitle():\n",
        "  print(f\"user has given correct input\")\n",
        "elif name.isspace():\n",
        "  print(f\"Wrong input please try again!!\")\n",
        "else:\n",
        "  print(f\"wrong input we need to autocorrect it\")\n",
        "  name = name.title()\n",
        "  print(f\"Correct output: {name}\")"
      ],
      "metadata": {
        "colab": {
          "base_uri": "https://localhost:8080/"
        },
        "id": "wiclbGv9esW2",
        "outputId": "b34a7189-c1ae-48ef-f897-d3b653c718e4"
      },
      "execution_count": 121,
      "outputs": [
        {
          "output_type": "stream",
          "name": "stdout",
          "text": [
            "Enter your name: luCKy\n",
            "user input: luCKy\n",
            "wrong input we need to autocorrect it\n",
            "Correct output: Lucky\n"
          ]
        }
      ]
    },
    {
      "cell_type": "code",
      "source": [
        "phone_number = \"130853430135\"\n",
        "phone_number.isdigit()"
      ],
      "metadata": {
        "colab": {
          "base_uri": "https://localhost:8080/"
        },
        "id": "QaHW6RbYe0Ng",
        "outputId": "a15effd3-c5f9-4e5b-884d-d01ae3507168"
      },
      "execution_count": 122,
      "outputs": [
        {
          "output_type": "execute_result",
          "data": {
            "text/plain": [
              "True"
            ]
          },
          "metadata": {},
          "execution_count": 122
        }
      ]
    },
    {
      "cell_type": "code",
      "source": [
        "phone_number = \"1308580135ggg\"\n",
        "phone_number.isdigit()"
      ],
      "metadata": {
        "colab": {
          "base_uri": "https://localhost:8080/"
        },
        "id": "PoH7tFzefMrY",
        "outputId": "fd0e6b20-0360-464f-9f49-028db42a0a25"
      },
      "execution_count": 123,
      "outputs": [
        {
          "output_type": "execute_result",
          "data": {
            "text/plain": [
              "False"
            ]
          },
          "metadata": {},
          "execution_count": 123
        }
      ]
    },
    {
      "cell_type": "code",
      "source": [
        "phone_number = input(\"Enter your phone no: \")\n",
        "\n",
        "if phone_number.isdigit() and len(phone_number) == 10:\n",
        "  print(f\"user input is correct\")\n",
        "else:\n",
        "  print(\"invalid input\")"
      ],
      "metadata": {
        "colab": {
          "base_uri": "https://localhost:8080/"
        },
        "id": "HklxSr-PfRA4",
        "outputId": "7b83fec2-3c6d-4283-da73-1f9e8018fd0b"
      },
      "execution_count": 124,
      "outputs": [
        {
          "output_type": "stream",
          "name": "stdout",
          "text": [
            "Enter your phone no: 9387473828\n",
            "user input is correct\n"
          ]
        }
      ]
    },
    {
      "cell_type": "code",
      "source": [
        "phone_number = input(\"Enter your phone no: \")\n",
        "\n",
        "if phone_number.isdigit() and len(phone_number) == 10:\n",
        "  print(f\"user input is correct\")\n",
        "else:\n",
        "  print(\"invalid input\")"
      ],
      "metadata": {
        "colab": {
          "base_uri": "https://localhost:8080/"
        },
        "id": "TAJ1T4tLfsMg",
        "outputId": "eb863f4f-bda4-405f-e677-bc33a3c11300"
      },
      "execution_count": 125,
      "outputs": [
        {
          "output_type": "stream",
          "name": "stdout",
          "text": [
            "Enter your phone no: 2 v12313r c\n",
            "invalid input\n"
          ]
        }
      ]
    },
    {
      "cell_type": "code",
      "source": [
        "phone_number = input(\"Enter your phone no: \")\n",
        "\n",
        "if phone_number.isdigit() and len(phone_number) == 10:\n",
        "  print(f\"user input is correct\")\n",
        "else:\n",
        "  print(\"invalid input\")\n"
      ],
      "metadata": {
        "colab": {
          "base_uri": "https://localhost:8080/"
        },
        "id": "x0-QydyjfwYh",
        "outputId": "c5cb9c32-d1cc-458e-8bc6-9368f5bd3291"
      },
      "execution_count": 126,
      "outputs": [
        {
          "output_type": "stream",
          "name": "stdout",
          "text": [
            "Enter your phone no: 3121214r2`c3\n",
            "invalid input\n"
          ]
        }
      ]
    },
    {
      "cell_type": "code",
      "source": [
        "phone_number = input(\"Enter your phone no: \")\n",
        "\n",
        "if phone_number.isdigit() and len(phone_number) == 10 and phone_number != \"0000000000\":\n",
        "  print(f\"user input is correct\")\n",
        "else:\n",
        "  print(\"invalid input\")"
      ],
      "metadata": {
        "colab": {
          "base_uri": "https://localhost:8080/"
        },
        "id": "hJNIXynNf4PY",
        "outputId": "23b4d384-6136-4593-b6aa-6cf8b77de72d"
      },
      "execution_count": 127,
      "outputs": [
        {
          "output_type": "stream",
          "name": "stdout",
          "text": [
            "Enter your phone no: 3131313122\n",
            "user input is correct\n"
          ]
        }
      ]
    },
    {
      "cell_type": "code",
      "source": [
        "phone_number.startswith(\"0\")"
      ],
      "metadata": {
        "colab": {
          "base_uri": "https://localhost:8080/"
        },
        "id": "7bBYwBenf9AQ",
        "outputId": "e5f86b4b-35eb-4957-83a4-178b5ea39092"
      },
      "execution_count": 128,
      "outputs": [
        {
          "output_type": "execute_result",
          "data": {
            "text/plain": [
              "False"
            ]
          },
          "metadata": {},
          "execution_count": 128
        }
      ]
    },
    {
      "cell_type": "code",
      "source": [
        "phone_number.endswith(\"0\")"
      ],
      "metadata": {
        "colab": {
          "base_uri": "https://localhost:8080/"
        },
        "id": "0BMc-F9rgbLY",
        "outputId": "6685fbba-cdcb-4d7e-98fb-0e0da8e28d6f"
      },
      "execution_count": 129,
      "outputs": [
        {
          "output_type": "execute_result",
          "data": {
            "text/plain": [
              "False"
            ]
          },
          "metadata": {},
          "execution_count": 129
        }
      ]
    },
    {
      "cell_type": "code",
      "source": [
        "phone_number = \"+91322111241\"\n",
        "\n",
        "phone_number.startswith(\"+91\")"
      ],
      "metadata": {
        "colab": {
          "base_uri": "https://localhost:8080/"
        },
        "id": "86lgbxW-g2eA",
        "outputId": "b5a54687-5d7e-4046-f518-b41d29bc6f61"
      },
      "execution_count": 131,
      "outputs": [
        {
          "output_type": "execute_result",
          "data": {
            "text/plain": [
              "True"
            ]
          },
          "metadata": {},
          "execution_count": 131
        }
      ]
    },
    {
      "cell_type": "code",
      "source": [
        "phone_number[1:]"
      ],
      "metadata": {
        "id": "qrk41X7Dj-QF",
        "outputId": "bdce81ef-ccf7-4c1b-ff8b-f7e763d97cf0",
        "colab": {
          "base_uri": "https://localhost:8080/",
          "height": 35
        }
      },
      "execution_count": 132,
      "outputs": [
        {
          "output_type": "execute_result",
          "data": {
            "text/plain": [
              "'91322111241'"
            ],
            "application/vnd.google.colaboratory.intrinsic+json": {
              "type": "string"
            }
          },
          "metadata": {},
          "execution_count": 132
        }
      ]
    },
    {
      "cell_type": "code",
      "source": [
        "phone_number[1:].isdigit()"
      ],
      "metadata": {
        "colab": {
          "base_uri": "https://localhost:8080/"
        },
        "id": "GWyN9ml5g-Ow",
        "outputId": "2923c038-6e33-4aee-ab10-a3b479f48a3a"
      },
      "execution_count": 133,
      "outputs": [
        {
          "output_type": "execute_result",
          "data": {
            "text/plain": [
              "True"
            ]
          },
          "metadata": {},
          "execution_count": 133
        }
      ]
    },
    {
      "cell_type": "code",
      "source": [
        "len(phone_number)==13"
      ],
      "metadata": {
        "colab": {
          "base_uri": "https://localhost:8080/"
        },
        "id": "9AkdocOmhI5X",
        "outputId": "f2e07c64-ffc3-410b-f29d-91aa05cfe8ee"
      },
      "execution_count": 134,
      "outputs": [
        {
          "output_type": "execute_result",
          "data": {
            "text/plain": [
              "False"
            ]
          },
          "metadata": {},
          "execution_count": 134
        }
      ]
    },
    {
      "cell_type": "code",
      "source": [
        "phone_number = \"+910000000000\"\n",
        "\n",
        "phone_number.count(\"0\")"
      ],
      "metadata": {
        "colab": {
          "base_uri": "https://localhost:8080/"
        },
        "id": "FXwZjFt0h8EH",
        "outputId": "ec9bc500-f4e4-4aa8-f29f-de2de8583c6e"
      },
      "execution_count": 135,
      "outputs": [
        {
          "output_type": "execute_result",
          "data": {
            "text/plain": [
              "10"
            ]
          },
          "metadata": {},
          "execution_count": 135
        }
      ]
    },
    {
      "cell_type": "code",
      "source": [
        "phone_number = input(\"Enter your Indian phone no: \")\n",
        "\n",
        "if phone_number.startswith(\"+91\") and phone_number[1:].isdigit() and len(phone_number)==13:\n",
        "  print(f\"user input is correct\")\n",
        "else:\n",
        "  print(\"invalid input\")"
      ],
      "metadata": {
        "colab": {
          "base_uri": "https://localhost:8080/"
        },
        "id": "dt__A48bgeFo",
        "outputId": "2bcb426b-aea3-4c1c-c6e2-60ff7f742d75"
      },
      "execution_count": 136,
      "outputs": [
        {
          "output_type": "stream",
          "name": "stdout",
          "text": [
            "Enter your Indian phone no: +91755346442\n",
            "invalid input\n"
          ]
        }
      ]
    },
    {
      "cell_type": "code",
      "source": [
        "phone_number = input(\"Enter your Indian phone no: \")\n",
        "\n",
        "if phone_number.startswith(\"+91\") and phone_number[1:].isdigit() and len(phone_number)==13:\n",
        "  print(f\"user input is correct\")\n",
        "else:\n",
        "  print(\"invalid input\")"
      ],
      "metadata": {
        "colab": {
          "base_uri": "https://localhost:8080/"
        },
        "id": "4O5Fj_PZgwWw",
        "outputId": "51ab55e4-70ad-43d7-a3e8-11618b5f5031"
      },
      "execution_count": 137,
      "outputs": [
        {
          "output_type": "stream",
          "name": "stdout",
          "text": [
            "Enter your Indian phone no: 3233524242\n",
            "invalid input\n"
          ]
        }
      ]
    },
    {
      "cell_type": "code",
      "source": [
        "phone_number = input(\"Enter your Indian phone no: \")\n",
        "\n",
        "if phone_number.startswith(\"+91\") and phone_number[1:].isdigit() and len(phone_number)==13:\n",
        "  print(f\"user input is correct\")\n",
        "else:\n",
        "  print(\"invalid input\")\n"
      ],
      "metadata": {
        "colab": {
          "base_uri": "https://localhost:8080/"
        },
        "id": "BbXZ5z6ZhfBu",
        "outputId": "2e3b2b78-b2cb-4749-e81a-f44c1325cf8d"
      },
      "execution_count": 138,
      "outputs": [
        {
          "output_type": "stream",
          "name": "stdout",
          "text": [
            "Enter your Indian phone no: 9332829282\n",
            "invalid input\n"
          ]
        }
      ]
    },
    {
      "cell_type": "code",
      "source": [
        "name = \"AYEPC5656X\"\n",
        "name.isalnum() # Check for alpha numeric case"
      ],
      "metadata": {
        "colab": {
          "base_uri": "https://localhost:8080/"
        },
        "id": "-9WAb8WwhnB-",
        "outputId": "cf7ebe37-c41f-49a5-8cd7-05ae474cac0f"
      },
      "execution_count": 140,
      "outputs": [
        {
          "output_type": "execute_result",
          "data": {
            "text/plain": [
              "True"
            ]
          },
          "metadata": {},
          "execution_count": 140
        }
      ]
    },
    {
      "cell_type": "code",
      "source": [
        "name= \"789789789\"\n",
        "name.isalnum() # Check for alphabets or numeric case"
      ],
      "metadata": {
        "colab": {
          "base_uri": "https://localhost:8080/"
        },
        "id": "vs6KKmkHit4u",
        "outputId": "2f8f1268-002d-4917-cd1d-fd6ab6804cfa"
      },
      "execution_count": 141,
      "outputs": [
        {
          "output_type": "execute_result",
          "data": {
            "text/plain": [
              "True"
            ]
          },
          "metadata": {},
          "execution_count": 141
        }
      ]
    },
    {
      "cell_type": "code",
      "source": [
        "name = \"lucky\"\n",
        "name.isalnum() # Check for alphabets or numeric case"
      ],
      "metadata": {
        "colab": {
          "base_uri": "https://localhost:8080/"
        },
        "id": "O9IZJNl2i0S9",
        "outputId": "4d73523c-5a96-44c8-f5ee-43a55f5e09f5"
      },
      "execution_count": 142,
      "outputs": [
        {
          "output_type": "execute_result",
          "data": {
            "text/plain": [
              "True"
            ]
          },
          "metadata": {},
          "execution_count": 142
        }
      ]
    },
    {
      "cell_type": "code",
      "source": [
        "name = \"lucky @123 lucky\" # BECAUSE IT CONTAINS SPACES WHICH IS NOT ALPHBET\n",
        "name.isalnum() # Check for alphabets or numeric case"
      ],
      "metadata": {
        "colab": {
          "base_uri": "https://localhost:8080/"
        },
        "id": "zr0NPOtci-p1",
        "outputId": "b2ccda7d-4bf1-4397-bde1-bb713ce2b290"
      },
      "execution_count": 144,
      "outputs": [
        {
          "output_type": "execute_result",
          "data": {
            "text/plain": [
              "False"
            ]
          },
          "metadata": {},
          "execution_count": 144
        }
      ]
    },
    {
      "cell_type": "code",
      "source": [
        "name = \"lucky236\"\n",
        "name.isalnum() # Check for alphabets or numeric case"
      ],
      "metadata": {
        "colab": {
          "base_uri": "https://localhost:8080/"
        },
        "id": "FP_W9X1ljXhV",
        "outputId": "df0cb674-980a-48b7-c67b-64178604c53d"
      },
      "execution_count": 146,
      "outputs": [
        {
          "output_type": "execute_result",
          "data": {
            "text/plain": [
              "True"
            ]
          },
          "metadata": {},
          "execution_count": 146
        }
      ]
    }
  ]
}