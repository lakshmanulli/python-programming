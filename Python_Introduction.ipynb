{
  "nbformat": 4,
  "nbformat_minor": 0,
  "metadata": {
    "colab": {
      "provenance": [],
      "authorship_tag": "ABX9TyNzBvnh9MB/ja7348jP1jFJ",
      "include_colab_link": true
    },
    "kernelspec": {
      "name": "python3",
      "display_name": "Python 3"
    },
    "language_info": {
      "name": "python"
    }
  },
  "cells": [
    {
      "cell_type": "markdown",
      "metadata": {
        "id": "view-in-github",
        "colab_type": "text"
      },
      "source": [
        "<a href=\"https://colab.research.google.com/github/lakshmanulli/python-programming/blob/main/Python_Introduction.ipynb\" target=\"_parent\"><img src=\"https://colab.research.google.com/assets/colab-badge.svg\" alt=\"Open In Colab\"/></a>"
      ]
    },
    {
      "cell_type": "markdown",
      "source": [
        "# Python Introduction\n",
        "## What is Python?\n",
        "\n",
        "Python is a general-purpose, high-level programming language created by Guido van Rossum in 1991.\n",
        "It's known for its clear and concise syntax, making it easier to learn and read compared to other languages.\n",
        "\n",
        "## Why Python?\n",
        "\n",
        "####Readability:\n",
        " Python code resembles natural language (like English), making it easier to understand and write.\n",
        "####Versatility:\n",
        " Python is used in various fields like web development, data science, machine learning, automation, and more.\n",
        "####Large Community:\n",
        " Python boasts a vast and supportive community, offering plenty of resources and tutorials for beginners.\n",
        "\n",
        "## Basic Python Concepts:\n",
        "\n",
        "####Variables:\n",
        "Variables store data like numbers or text. You can assign values to variables using the = operator.\n",
        "###Data Types:\n",
        " Python has various data types like integers, floats, strings, and booleans (True/False) to represent different kinds of information.\n",
        "###Operators:\n",
        " Operators perform operations on data. Python includes arithmetic operators (+, -, *, /), comparison operators (==, !=, <, >), and logical operators (and, or, not).\n",
        "###Control Flow:\n",
        " Control flow statements dictate how your program executes. These include if statements for conditional execution, for loops for iterating through sequences, and while loops for repeating code blocks.\n",
        "###Functions:\n",
        " Functions are reusable blocks of code that perform specific tasks. They can take arguments (inputs) and return values (outputs)."
      ],
      "metadata": {
        "id": "iswPHcDyAjH2"
      }
    },
    {
      "cell_type": "markdown",
      "source": [
        "#Getting Started: How to install Python\n",
        "\n",
        "###Install Python:\n",
        " Download and install Python from the official website (https://www.python.org/downloads/).\n",
        "###Choose an IDE (Integrated Development Environment):\n",
        " An IDE provides tools for writing, running, and debugging Python code. Popular options include IDLE (included with Python installation), PyCharm, and Visual Studio Code."
      ],
      "metadata": {
        "id": "4-1jBD7JSF76"
      }
    },
    {
      "cell_type": "markdown",
      "source": [
        "# Variables\n",
        "In Python, variables act as named containers that store data. You can assign different types of values to variables, and use those variables throughout your code to refer to that data without needing to repeat the values themselves. This makes your code more readable, maintainable, and reusable.\n",
        "\n",
        "##Creating and Assigning Values to Variables:\n",
        "\n",
        "Variable Naming:\n",
        "\n",
        "Variable names must start with a letter (uppercase or lowercase) or an underscore (_).\n",
        "\n",
        "They can contain letters, numbers, and underscores, but numbers cannot be the first character.\n",
        "\n",
        "Avoid using Python keywords (reserved words with special meanings) as variable names (e.g., if, for, while).\n",
        "\n",
        "Choose meaningful names that reflect the variable's purpose (e.g., age, name, total_cost).\n",
        "##Assignment Operator (=):\n",
        "\n",
        "The assignment operator (=) is used to assign a value to a variable.\n",
        "\n",
        "###The syntax is:\n",
        "variable_name = value"
      ],
      "metadata": {
        "id": "w7JlUCbTThTf"
      }
    },
    {
      "cell_type": "code",
      "source": [
        "a = 10\n",
        "#a is a variable , 10 is avalue"
      ],
      "metadata": {
        "id": "fnyVzVYgOcf7"
      },
      "execution_count": null,
      "outputs": []
    },
    {
      "cell_type": "code",
      "source": [
        "a"
      ],
      "metadata": {
        "colab": {
          "base_uri": "https://localhost:8080/"
        },
        "id": "QWlzkT_ZWcRR",
        "outputId": "07266107-b6f6-44fb-871f-ac81dde91f3e"
      },
      "execution_count": null,
      "outputs": [
        {
          "output_type": "execute_result",
          "data": {
            "text/plain": [
              "10"
            ]
          },
          "metadata": {},
          "execution_count": 2
        }
      ]
    },
    {
      "cell_type": "code",
      "source": [
        "a=10\n",
        "b=20"
      ],
      "metadata": {
        "id": "mbBreReqWd21"
      },
      "execution_count": null,
      "outputs": []
    },
    {
      "cell_type": "code",
      "source": [
        "c=a+b\n",
        "c"
      ],
      "metadata": {
        "colab": {
          "base_uri": "https://localhost:8080/"
        },
        "id": "bigqwkdJWkDO",
        "outputId": "bbbfa68e-fd6d-49bc-8a6d-be5ec31196e2"
      },
      "execution_count": null,
      "outputs": [
        {
          "output_type": "execute_result",
          "data": {
            "text/plain": [
              "30"
            ]
          },
          "metadata": {},
          "execution_count": 4
        }
      ]
    },
    {
      "cell_type": "code",
      "source": [
        "a=b=c=20\n",
        "# mulitiple variables assign a single value"
      ],
      "metadata": {
        "id": "L07GHcd-Wnoa"
      },
      "execution_count": null,
      "outputs": []
    },
    {
      "cell_type": "code",
      "source": [
        "a"
      ],
      "metadata": {
        "colab": {
          "base_uri": "https://localhost:8080/"
        },
        "id": "IdeOJBXxW3pI",
        "outputId": "e4237414-453c-438b-bf5f-f7e32a2fe725"
      },
      "execution_count": null,
      "outputs": [
        {
          "output_type": "execute_result",
          "data": {
            "text/plain": [
              "20"
            ]
          },
          "metadata": {},
          "execution_count": 6
        }
      ]
    },
    {
      "cell_type": "code",
      "source": [
        "b"
      ],
      "metadata": {
        "colab": {
          "base_uri": "https://localhost:8080/"
        },
        "id": "DJTD2AQFW4w0",
        "outputId": "041755e0-abde-438c-c237-ce9924cc0a20"
      },
      "execution_count": null,
      "outputs": [
        {
          "output_type": "execute_result",
          "data": {
            "text/plain": [
              "20"
            ]
          },
          "metadata": {},
          "execution_count": 7
        }
      ]
    },
    {
      "cell_type": "code",
      "source": [
        "name =\"hello\"\n",
        "name"
      ],
      "metadata": {
        "colab": {
          "base_uri": "https://localhost:8080/",
          "height": 35
        },
        "id": "WWcT6xyZZZLE",
        "outputId": "8e7fe724-00ed-429b-c7f1-304cc6939799"
      },
      "execution_count": null,
      "outputs": [
        {
          "output_type": "execute_result",
          "data": {
            "text/plain": [
              "'hello'"
            ],
            "application/vnd.google.colaboratory.intrinsic+json": {
              "type": "string"
            }
          },
          "metadata": {},
          "execution_count": 9
        }
      ]
    },
    {
      "cell_type": "markdown",
      "source": [
        "#Data Types:\n",
        "\n",
        "Python is dynamically typed, meaning you don't need to explicitly declare the data type of a variable beforehand. The data type is determined by the value you assign to it. Here are some common data types:\n",
        "\n",
        "##Numeric Types:\n",
        "\n",
        "###Integers (int):\n",
        " Represent whole numbers, positive, negative, or zero (e.g., 10, -5, 0).\n",
        "###Floats (float):\n",
        " Represent numbers with decimal points (e.g., 3.14, -12.5).\n",
        "###Textual Type:\n",
        "\n",
        "**Strings (str)**: Sequences of characters enclosed in single or double quotes (e.g., \"Hello, world!\", 'This is a string').\n",
        "Logical Type:\n",
        "\n",
        "**Booleans (bool)**: Represent logical values, either True or False.\n",
        "##Collection Types:\n",
        "\n",
        "**Lists (list)**: Ordered, mutable collections of items enclosed in square brackets []. Elements can be of different data types (e.g., [10, \"apple\", 3.14]).\n",
        "\n",
        "**Tuples (tuple)**: Ordered, immutable collections of items enclosed in parentheses (). Elements cannot be changed after creation (e.g., (1, \"banana\", True)).\n",
        "\n",
        "**Sets (set)**: Unordered collections of unique elements enclosed in curly braces {}. No duplicates allowed (e.g., {1, \"orange\", 2.7}).\n",
        "\n",
        "**Dictionaries (dict)**: Unordered collections of key-value pairs enclosed in curly braces {}.\n",
        "\n",
        " Keys must be unique and immutable (often strings), while values can be any data type (e.g., {\"name\": \"Alice\", \"age\": 30, \"fruits\": [\"apple\", \"banana\"]})."
      ],
      "metadata": {
        "id": "wC9Rzx9kZcva"
      }
    },
    {
      "cell_type": "code",
      "source": [
        "a = 10          # integer\n",
        "b = 20.5        #floating point\n",
        "c = 3+9j        # complex\n",
        "\n",
        "print(type(a))\n",
        "print(type(b))\n",
        "print(type(c))"
      ],
      "metadata": {
        "colab": {
          "base_uri": "https://localhost:8080/"
        },
        "id": "Y_h1NThWZb_-",
        "outputId": "bb86c216-dfb1-4b1e-8033-5096a63f4172"
      },
      "execution_count": null,
      "outputs": [
        {
          "output_type": "stream",
          "name": "stdout",
          "text": [
            "<class 'int'>\n",
            "<class 'float'>\n",
            "<class 'complex'>\n"
          ]
        }
      ]
    },
    {
      "cell_type": "code",
      "source": [
        "l = [1,2,\"hello\", 203.5]\n",
        "type(l)"
      ],
      "metadata": {
        "colab": {
          "base_uri": "https://localhost:8080/"
        },
        "id": "1F1MU_ZLxnEr",
        "outputId": "258abf1e-0cb1-4ecc-a0e9-0b4af1641447"
      },
      "execution_count": null,
      "outputs": [
        {
          "output_type": "execute_result",
          "data": {
            "text/plain": [
              "list"
            ]
          },
          "metadata": {},
          "execution_count": 4
        }
      ]
    },
    {
      "cell_type": "code",
      "source": [
        "l = list((1,2,\"hello\", 203.5))\n",
        "type(l)"
      ],
      "metadata": {
        "colab": {
          "base_uri": "https://localhost:8080/"
        },
        "id": "f8vhPFLVx9H3",
        "outputId": "7968e6b2-aeda-439d-9861-5144a777453d"
      },
      "execution_count": null,
      "outputs": [
        {
          "output_type": "execute_result",
          "data": {
            "text/plain": [
              "list"
            ]
          },
          "metadata": {},
          "execution_count": 7
        }
      ]
    },
    {
      "cell_type": "code",
      "source": [
        "a = 'a'\n",
        "type(a)"
      ],
      "metadata": {
        "colab": {
          "base_uri": "https://localhost:8080/"
        },
        "id": "4BtBo3IRyHZy",
        "outputId": "bbba20a4-e373-4c3b-8824-3a0d904e9d55"
      },
      "execution_count": null,
      "outputs": [
        {
          "output_type": "execute_result",
          "data": {
            "text/plain": [
              "str"
            ]
          },
          "metadata": {},
          "execution_count": 8
        }
      ]
    },
    {
      "cell_type": "markdown",
      "source": [
        "#Comments\n",
        "Comments in Python are essential for making your code more readable and understandable, both for yourself and others. They are lines of text that are ignored by the Python interpreter when the code is executed."
      ],
      "metadata": {
        "id": "d5BeDobozaPr"
      }
    },
    {
      "cell_type": "markdown",
      "source": [
        " The different types of comments you can use in Python:\n",
        "\n",
        "1. Single-Line Comments:\n",
        "\n",
        "These are the simplest type of comments.\n",
        "They start with the hash symbol (#) and extend to the end of the line.\n",
        "They are typically used for brief explanations of code snippets or variable assignments."
      ],
      "metadata": {
        "id": "P9tzwiVUzgDP"
      }
    },
    {
      "cell_type": "code",
      "source": [
        "# this is singal line comment"
      ],
      "metadata": {
        "id": "9BzxdtHTybkx"
      },
      "execution_count": 1,
      "outputs": []
    },
    {
      "cell_type": "code",
      "source": [
        "#addition of two numbers\n",
        "a = 10\n",
        "b = 20\n",
        "c = a+b\n",
        "c"
      ],
      "metadata": {
        "colab": {
          "base_uri": "https://localhost:8080/",
          "height": 0
        },
        "id": "k8z16yYRpw4m",
        "outputId": "99e162bb-f861-44ab-db5a-9a519432e938"
      },
      "execution_count": 5,
      "outputs": [
        {
          "output_type": "execute_result",
          "data": {
            "text/plain": [
              "30"
            ]
          },
          "metadata": {},
          "execution_count": 5
        }
      ]
    },
    {
      "cell_type": "markdown",
      "source": [
        "#Type Casting\n",
        "\n",
        "There may be times when you want to specify a type on to a variable. This can be done with casting. Python is an object-orientated language, and as such it uses classes to define data types, including its primitive types.\n",
        "\n",
        "Casting in python is therefore done using constructor functions:\n",
        "\n",
        "**int()** - constructs an integer number from an integer literal, a float literal (by removing all decimals), or a string literal (providing the string represents a whole number)\n",
        "\n",
        "**float()** - constructs a float number from an integer literal, a float literal or a string literal (providing the string represents a float or an integer)\n",
        "\n",
        "**str()** - constructs a string from a wide variety of data types, including strings, integer literals and float literals"
      ],
      "metadata": {
        "id": "h3cfmrk6rE7m"
      }
    },
    {
      "cell_type": "code",
      "source": [
        "x = int(1)   # x will be 1\n",
        "y = int(2.8) # y will be 2\n",
        "z = int(\"3\") # z will be 3"
      ],
      "metadata": {
        "id": "21oj7aFJp8rk"
      },
      "execution_count": 6,
      "outputs": []
    },
    {
      "cell_type": "code",
      "source": [
        "x,y,z"
      ],
      "metadata": {
        "colab": {
          "base_uri": "https://localhost:8080/",
          "height": 0
        },
        "id": "GprCbjzprd59",
        "outputId": "f374c314-d037-4bb1-b5d3-aeb4591d7e8d"
      },
      "execution_count": 7,
      "outputs": [
        {
          "output_type": "execute_result",
          "data": {
            "text/plain": [
              "(1, 2, 3)"
            ]
          },
          "metadata": {},
          "execution_count": 7
        }
      ]
    },
    {
      "cell_type": "code",
      "source": [
        "x = float(1)     # x will be 1.0\n",
        "y = float(2.8)   # y will be 2.8\n",
        "z = float(\"3\")   # z will be 3.0\n",
        "w = float(\"4.2\") # w will be 4.2"
      ],
      "metadata": {
        "id": "7qFThWryrhYe"
      },
      "execution_count": 8,
      "outputs": []
    },
    {
      "cell_type": "code",
      "source": [
        "x,y,z,w"
      ],
      "metadata": {
        "colab": {
          "base_uri": "https://localhost:8080/",
          "height": 0
        },
        "id": "13q0PopRrn8P",
        "outputId": "d71c91e7-ef5d-4d12-bc11-27ccd1eea698"
      },
      "execution_count": 9,
      "outputs": [
        {
          "output_type": "execute_result",
          "data": {
            "text/plain": [
              "(1.0, 2.8, 3.0, 4.2)"
            ]
          },
          "metadata": {},
          "execution_count": 9
        }
      ]
    },
    {
      "cell_type": "code",
      "source": [
        "x = str(\"s1\") # x will be 's1'\n",
        "y = str(2)    # y will be '2'\n",
        "z = str(3.0)  # z will be '3.0'"
      ],
      "metadata": {
        "id": "KXR7iVKmrqiR"
      },
      "execution_count": 10,
      "outputs": []
    },
    {
      "cell_type": "code",
      "source": [
        "x,y,z"
      ],
      "metadata": {
        "colab": {
          "base_uri": "https://localhost:8080/",
          "height": 0
        },
        "id": "TuVvm1TzrvIT",
        "outputId": "e399714b-5818-44a7-e5c1-1718b0399aa3"
      },
      "execution_count": 11,
      "outputs": [
        {
          "output_type": "execute_result",
          "data": {
            "text/plain": [
              "('s1', '2', '3.0')"
            ]
          },
          "metadata": {},
          "execution_count": 11
        }
      ]
    },
    {
      "cell_type": "code",
      "source": [
        "type(x)"
      ],
      "metadata": {
        "colab": {
          "base_uri": "https://localhost:8080/",
          "height": 0
        },
        "id": "4FecvZhcrxT-",
        "outputId": "a9072071-696b-477c-864e-ff2e67d6115b"
      },
      "execution_count": 12,
      "outputs": [
        {
          "output_type": "execute_result",
          "data": {
            "text/plain": [
              "str"
            ]
          },
          "metadata": {},
          "execution_count": 12
        }
      ]
    },
    {
      "cell_type": "markdown",
      "source": [
        "#Python Indentation\n",
        "\n",
        "In Python, indentation is crucial for defining the structure of your code. Unlike many other programming languages that use curly braces ({}) to mark code blocks, Python relies on indentation to determine which lines of code belong together.\n",
        "\n",
        "Here's a breakdown of key points about indentation in Python:\n",
        "\n",
        "**Purpose:** It defines the scope of statements within loops, conditional statements (if/else), functions, and classes.\n",
        "\n",
        "**Consistency:** The indentation within a block of code must be consistent. It's recommended to use either 4 spaces or a single tab for indentation, but don't mix tabs and spaces as this can lead to errors.\n",
        "\n",
        "**Minimum Indentation:** While the exact number of spaces is flexible (as long as it's consistent within a block), you must indent at least one space to create a block.\n"
      ],
      "metadata": {
        "id": "oBt0PslCswET"
      }
    },
    {
      "cell_type": "code",
      "source": [
        "age =25\n",
        "if age >= 18:\n",
        "    print(\"You are eligible to vote.\") # here tab space given for indentation\n",
        "else:\n",
        "    print(\"Sorry, you are not eligible to vote.\")\n"
      ],
      "metadata": {
        "colab": {
          "base_uri": "https://localhost:8080/",
          "height": 0
        },
        "id": "JQveLnwnr0Kd",
        "outputId": "9b596f23-c58e-4edb-eed9-64c8d4cb7113"
      },
      "execution_count": 14,
      "outputs": [
        {
          "output_type": "stream",
          "name": "stdout",
          "text": [
            "You are eligible to vote.\n"
          ]
        }
      ]
    },
    {
      "cell_type": "code",
      "source": [
        "age =25\n",
        "if age >= 18:\n",
        "    print(\"You are eligible to vote.\") # here tab space given for indentation\n",
        "else:\n",
        "print(\"Sorry, you are not eligible to vote.\") # here not given a tab space for indentation\n",
        "#Error Handling"
      ],
      "metadata": {
        "colab": {
          "base_uri": "https://localhost:8080/",
          "height": 106
        },
        "id": "4XZpxyNatM3I",
        "outputId": "10c98d80-9b07-4c8c-fd98-38029703396b"
      },
      "execution_count": 15,
      "outputs": [
        {
          "output_type": "error",
          "ename": "IndentationError",
          "evalue": "expected an indented block after 'else' statement on line 4 (<ipython-input-15-d846af3d5389>, line 5)",
          "traceback": [
            "\u001b[0;36m  File \u001b[0;32m\"<ipython-input-15-d846af3d5389>\"\u001b[0;36m, line \u001b[0;32m5\u001b[0m\n\u001b[0;31m    print(\"Sorry, you are not eligible to vote.\") # here not given a tab space for indentation\u001b[0m\n\u001b[0m    ^\u001b[0m\n\u001b[0;31mIndentationError\u001b[0m\u001b[0;31m:\u001b[0m expected an indented block after 'else' statement on line 4\n"
          ]
        }
      ]
    }
  ]
}